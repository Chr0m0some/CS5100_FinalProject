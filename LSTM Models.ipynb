{
 "cells": [
  {
   "cell_type": "code",
   "execution_count": 57,
   "id": "8c73a3db",
   "metadata": {},
   "outputs": [],
   "source": [
    "import pandas as pd\n",
    "import nltk\n",
    "import string\n",
    "import matplotlib.pyplot as plt\n",
    "import tensorflow\n",
    "import numpy as np\n",
    "\n",
    "from gensim.models import Word2Vec as w2v\n",
    "\n",
    "\n",
    "from sklearn.metrics import accuracy_score, precision_score, recall_score, f1_score, confusion_matrix\n",
    "\n",
    "from tensorflow.keras.preprocessing.text import Tokenizer\n",
    "from tensorflow.keras.preprocessing.sequence import pad_sequences\n",
    "from tensorflow.keras.models import Sequential\n",
    "from tensorflow.keras.layers import Embedding, LSTM, Dense, Dropout\n",
    "from tensorflow.keras.regularizers import l2\n",
    "from tensorflow.keras.callbacks import EarlyStopping\n",
    "from tensorflow.keras.models import load_model\n",
    "from tensorflow.keras.optimizers import Adam"
   ]
  },
  {
   "cell_type": "markdown",
   "id": "270d2a03",
   "metadata": {},
   "source": [
    "# Load and Shuffle Data"
   ]
  },
  {
   "cell_type": "code",
   "execution_count": 41,
   "id": "8bc7cabd",
   "metadata": {},
   "outputs": [],
   "source": [
    "train_df = pd.read_csv(\"training_data.csv\")\n",
    "train_df['Sentiment'] = train_df['Sentiment'].replace({'Positive': 1, 'Negative': 0})"
   ]
  },
  {
   "cell_type": "code",
   "execution_count": 42,
   "id": "660d0e04",
   "metadata": {},
   "outputs": [],
   "source": [
    "# Shuffle the data\n",
    "train_df = train_df.sample(frac=1, random_state=42).reset_index(drop=True)"
   ]
  },
  {
   "cell_type": "markdown",
   "id": "4de58a28",
   "metadata": {},
   "source": [
    "# Word2Vec Model (random parameters)"
   ]
  },
  {
   "cell_type": "code",
   "execution_count": 43,
   "id": "4e3303f4",
   "metadata": {},
   "outputs": [],
   "source": [
    "sentences = [row.split() for row in train_df[\"Text\"]] # get list of sentences\n",
    "w2v_model = w2v(sentences, vector_size=200, window=5, min_count=1, workers=4) # fit and save model\n",
    "w2v_model.save(\"twitter_model.model\")"
   ]
  },
  {
   "cell_type": "markdown",
   "id": "7e76d20f",
   "metadata": {},
   "source": [
    "# Text Preprocessing"
   ]
  },
  {
   "cell_type": "code",
   "execution_count": 49,
   "id": "b1473d5f",
   "metadata": {},
   "outputs": [],
   "source": [
    "def training_preprocessing(df, w2v_model, use_custom_pad, pad_length = 0):\n",
    "    # Tokenize Data\n",
    "    tokenizer = Tokenizer()\n",
    "    tokenizer.fit_on_texts(df[\"Text\"])\n",
    "    sequences = tokenizer.texts_to_sequences(df[\"Text\"])\n",
    "    max_sequence_length = max([len(seq) for seq in sequences])\n",
    "    \n",
    "    # If using a custom pad length then set this to true and provide length otherwise its max sequence length\n",
    "    if use_custom_pad == True:\n",
    "        # Pad Sequences (ensures same length) and get training data\n",
    "        X_train = pad_sequences(sequences, maxlen = pad_length)\n",
    "        Y_train = df[\"Sentiment\"].values\n",
    "    else:\n",
    "        pad_length = max_sequence_length\n",
    "        # Pad Sequences (ensures same length) and get training data\n",
    "        X_train = pad_sequences(sequences, maxlen = pad_length)\n",
    "        Y_train = df[\"Sentiment\"].values\n",
    "        \n",
    "    \n",
    "    # Create Embedding Matrix from Word2Vec Model to use in first layer\n",
    "    embedding_matrix = np.zeros((len(tokenizer.word_index) + 1, w2v_model.vector_size))\n",
    "    for word, i in tokenizer.word_index.items():\n",
    "        if word in w2v_model.wv.key_to_index:\n",
    "            embedding_matrix[i] = w2v_model.wv[word]\n",
    "            \n",
    "    return tokenizer, embedding_matrix, X_train, Y_train, pad_length\n",
    "\n"
   ]
  },
  {
   "cell_type": "code",
   "execution_count": 50,
   "id": "1774dbde",
   "metadata": {},
   "outputs": [],
   "source": [
    "tokenizer, embedding_matrix, X_train, Y_train, pad_length = training_preprocessing(train_df, w2v_model, use_custom_pad = False)"
   ]
  },
  {
   "cell_type": "markdown",
   "id": "4bf508b7",
   "metadata": {},
   "source": [
    "# Define and Fit the Model"
   ]
  },
  {
   "cell_type": "code",
   "execution_count": 53,
   "id": "610c8f5a",
   "metadata": {
    "scrolled": false
   },
   "outputs": [
    {
     "name": "stdout",
     "output_type": "stream",
     "text": [
      "Model: \"sequential_6\"\n",
      "_________________________________________________________________\n",
      " Layer (type)                Output Shape              Param #   \n",
      "=================================================================\n",
      " embedding_6 (Embedding)     (None, 163, 200)          4714600   \n",
      "                                                                 \n",
      " lstm_12 (LSTM)              (None, 163, 256)          467968    \n",
      "                                                                 \n",
      " dropout_8 (Dropout)         (None, 163, 256)          0         \n",
      "                                                                 \n",
      " lstm_13 (LSTM)              (None, 163, 128)          197120    \n",
      "                                                                 \n",
      " dropout_9 (Dropout)         (None, 163, 128)          0         \n",
      "                                                                 \n",
      " lstm_14 (LSTM)              (None, 64)                49408     \n",
      "                                                                 \n",
      " dense_4 (Dense)             (None, 1)                 65        \n",
      "                                                                 \n",
      "=================================================================\n",
      "Total params: 5429161 (20.71 MB)\n",
      "Trainable params: 714561 (2.73 MB)\n",
      "Non-trainable params: 4714600 (17.98 MB)\n",
      "_________________________________________________________________\n"
     ]
    }
   ],
   "source": [
    "reg_term = .001 \n",
    "model = Sequential()\n",
    "# inital embedding layer \n",
    "model.add(Embedding(input_dim = len(tokenizer.word_index) + 1,\n",
    "                    output_dim = w2v_model.vector_size,\n",
    "                        weights = [embedding_matrix],\n",
    "                        input_length = pad_length,\n",
    "                        trainable = False))\n",
    "# 3 LSTM Layers decreasing in size and a dense output layer with dropout to prevent overfitting\n",
    "model.add(LSTM(256, return_sequences = True, recurrent_regularizer=l2(reg_term)))\n",
    "model.add(Dropout(0.2))\n",
    "model.add(LSTM(128, return_sequences = True, recurrent_regularizer=l2(reg_term)))\n",
    "model.add(Dropout(0.2))\n",
    "model.add(LSTM(64, return_sequences = False, recurrent_regularizer=l2(reg_term)))\n",
    "model.add(Dense(1, activation = 'sigmoid', kernel_regularizer = l2(reg_term)))\n",
    "\n",
    "# default adam optimizer used with binary cross entropy loss\n",
    "model.compile(optimizer = \"adam\", loss = 'binary_crossentropy', metrics = ['accuracy'])\n",
    "\n",
    "# early stopping added to further prevent overfitting\n",
    "early_stopping = EarlyStopping(monitor='val_loss', patience=3, verbose=1, restore_best_weights=True)\n",
    "\n",
    "model.summary()\n"
   ]
  },
  {
   "cell_type": "code",
   "execution_count": 54,
   "id": "1600dae3",
   "metadata": {
    "scrolled": true
   },
   "outputs": [
    {
     "name": "stdout",
     "output_type": "stream",
     "text": [
      "Epoch 1/10\n",
      "904/904 [==============================] - 506s 554ms/step - loss: 0.5389 - accuracy: 0.7542 - val_loss: 0.4935 - val_accuracy: 0.7662\n",
      "Epoch 2/10\n",
      "904/904 [==============================] - 524s 579ms/step - loss: 0.4703 - accuracy: 0.7781 - val_loss: 0.4860 - val_accuracy: 0.7755\n",
      "Epoch 3/10\n",
      "904/904 [==============================] - 523s 578ms/step - loss: 0.4531 - accuracy: 0.7886 - val_loss: 0.4641 - val_accuracy: 0.7834\n",
      "Epoch 4/10\n",
      "904/904 [==============================] - 512s 566ms/step - loss: 0.4417 - accuracy: 0.7953 - val_loss: 0.4523 - val_accuracy: 0.7904\n",
      "Epoch 5/10\n",
      "904/904 [==============================] - 497s 549ms/step - loss: 0.4281 - accuracy: 0.8033 - val_loss: 0.4523 - val_accuracy: 0.7882\n",
      "Epoch 6/10\n",
      "904/904 [==============================] - 511s 566ms/step - loss: 0.4160 - accuracy: 0.8092 - val_loss: 0.4392 - val_accuracy: 0.8010\n",
      "Epoch 7/10\n",
      "904/904 [==============================] - 498s 551ms/step - loss: 0.4016 - accuracy: 0.8197 - val_loss: 0.4281 - val_accuracy: 0.7965\n",
      "Epoch 8/10\n",
      "904/904 [==============================] - 463s 512ms/step - loss: 0.3874 - accuracy: 0.8292 - val_loss: 0.4084 - val_accuracy: 0.8134\n",
      "Epoch 9/10\n",
      "904/904 [==============================] - 509s 564ms/step - loss: 0.3722 - accuracy: 0.8374 - val_loss: 0.4018 - val_accuracy: 0.8252\n",
      "Epoch 10/10\n",
      "904/904 [==============================] - 499s 552ms/step - loss: 0.3528 - accuracy: 0.8502 - val_loss: 0.3880 - val_accuracy: 0.8274\n"
     ]
    }
   ],
   "source": [
    "# Fit the model and save as history so you can graph loss later\n",
    "# Only run this if you need to refit the model, otherwise just load it below\n",
    "history = model.fit(\n",
    "    X_train,  \n",
    "    Y_train,\n",
    "    batch_size=32,\n",
    "    epochs=10,\n",
    "    validation_split=0.2,  \n",
    "    callbacks=[early_stopping],\n",
    "    shuffle=True  # Shuffle again to ensure randomization\n",
    ")"
   ]
  },
  {
   "cell_type": "code",
   "execution_count": 59,
   "id": "6770e282",
   "metadata": {},
   "outputs": [],
   "source": [
    "model.save(\"LSTM_Model.keras\") # Save the model"
   ]
  },
  {
   "cell_type": "code",
   "execution_count": 82,
   "id": "73931696",
   "metadata": {},
   "outputs": [],
   "source": [
    "model = load_model(\"LSTM_Model.keras\")"
   ]
  },
  {
   "cell_type": "markdown",
   "id": "4fbbf27e",
   "metadata": {},
   "source": [
    "# Training Metrics"
   ]
  },
  {
   "cell_type": "code",
   "execution_count": 83,
   "id": "5b0c2699",
   "metadata": {},
   "outputs": [
    {
     "name": "stdout",
     "output_type": "stream",
     "text": [
      "1129/1129 [==============================] - 190s 165ms/step\n"
     ]
    }
   ],
   "source": [
    "y_pred_train = model.predict(X_train)"
   ]
  },
  {
   "cell_type": "code",
   "execution_count": 84,
   "id": "1b7fffcd",
   "metadata": {},
   "outputs": [
    {
     "data": {
      "text/plain": [
       "0.859843871110619"
      ]
     },
     "execution_count": 84,
     "metadata": {},
     "output_type": "execute_result"
    }
   ],
   "source": [
    "y_pred_train = (y_pred_train > 0.5).astype(\"int32\")\n",
    "train_acc = accuracy_score(Y_train, y_pred_train)\n",
    "train_acc\n"
   ]
  },
  {
   "cell_type": "code",
   "execution_count": 85,
   "id": "af298f84",
   "metadata": {},
   "outputs": [
    {
     "data": {
      "text/plain": [
       "Text(0, 0.5, 'Loss')"
      ]
     },
     "execution_count": 85,
     "metadata": {},
     "output_type": "execute_result"
    },
    {
     "data": {
      "image/png": "[encoded data removed]",
      "text/plain": [
       "<Figure size 640x480 with 1 Axes>"
      ]
     },
     "metadata": {},
     "output_type": "display_data"
    }
   ],
   "source": [
    "# Validation vs Training Loss Graph\n",
    "training_loss = history.history[\"loss\"]\n",
    "val_loss = history.history[\"val_loss\"]\n",
    "\n",
    "plt.plot(training_loss, label = \"training\")\n",
    "plt.plot(val_loss, label = \"validation\")\n",
    "plt.legend()\n",
    "plt.xlabel(\"epoch\")\n",
    "plt.ylabel(\"Loss\")"
   ]
  },
  {
   "cell_type": "markdown",
   "id": "43635f32",
   "metadata": {},
   "source": [
    "# Testing Metrics"
   ]
  },
  {
   "cell_type": "code",
   "execution_count": 86,
   "id": "99ec53c5",
   "metadata": {},
   "outputs": [],
   "source": [
    "test_df = pd.read_csv(\"testing_data.csv\")\n",
    "test_df['Sentiment'] = test_df['Sentiment'].replace({'Positive': 1, 'Negative': 0})"
   ]
  },
  {
   "cell_type": "code",
   "execution_count": 87,
   "id": "06b984f0",
   "metadata": {},
   "outputs": [],
   "source": [
    "# Prepare test data same as training data\n",
    "test_sequences = tokenizer.texts_to_sequences(test_df[\"Text\"])\n",
    "x_test = pad_sequences(test_sequences, maxlen = pad_length)\n",
    "y_test = test_df[\"Sentiment\"]"
   ]
  },
  {
   "cell_type": "code",
   "execution_count": 88,
   "id": "9f641284",
   "metadata": {},
   "outputs": [
    {
     "name": "stdout",
     "output_type": "stream",
     "text": [
      "17/17 [==============================] - 3s 175ms/step\n"
     ]
    }
   ],
   "source": [
    "# get predictions and convert to binary\n",
    "predictions = model.predict(x_test)\n",
    "predicted_classes = (predictions > 0.5).astype(\"int32\")\n",
    "\n",
    "# accuracy \n",
    "test_acc = accuracy_score(y_test, predicted_classes)\n",
    "\n",
    "# confustion matrix\n",
    "cm = confusion_matrix(y_test, predicted_classes)\n",
    "\n",
    "# Precision \n",
    "prec = precision_score(y_test, predicted_classes)\n",
    "\n",
    "#F1\n",
    "f1 = f1_score(y_test, predicted_classes)\n",
    "\n",
    "# Recall\n",
    "rec = recall_score(y_test, predicted_classes)\n",
    "\n"
   ]
  },
  {
   "cell_type": "code",
   "execution_count": 89,
   "id": "64945e92",
   "metadata": {},
   "outputs": [
    {
     "name": "stdout",
     "output_type": "stream",
     "text": [
      "Testing Metrics:\n",
      "Testing Accuracy: 0.8775510204081632\n",
      "Precision: 0.8913857677902621\n",
      "Recall: 0.8654545454545455\n",
      "F1 Score: 0.8782287822878229\n",
      "Confusion Matrix: \n",
      "[[235  29]\n",
      " [ 37 238]]\n"
     ]
    }
   ],
   "source": [
    "print(\"Testing Metrics:\")\n",
    "print(f\"Testing Accuracy: {test_acc}\")\n",
    "print(f\"Precision: {prec}\")\n",
    "print(f\"Recall: {rec}\")\n",
    "print(f\"F1 Score: {f1}\")\n",
    "print(\"Confusion Matrix: \")\n",
    "print(cm)"
   ]
  },
  {
   "cell_type": "code",
   "execution_count": 90,
   "id": "a29569a0",
   "metadata": {},
   "outputs": [
    {
     "name": "stdout",
     "output_type": "stream",
     "text": [
      "1/1 [==============================] - 1s 910ms/step\n",
      "Positive :)\n",
      "\n"
     ]
    }
   ],
   "source": [
    "orig_sentence = \"\" # enter sentence to get sentiment\n",
    "sentence = tokenizer.texts_to_sequences([orig_sentence])\n",
    "pad_sentence = pad_sequences(sentence, maxlen = 100)\n",
    "\n",
    "pred = model.predict(pad_sentence)\n",
    "\n",
    "if pred[0][0] >= .5:\n",
    "    sentiment = \"Positive :)\"\n",
    "else:\n",
    "    sentiment = \"Negative :(\"\n",
    "    \n",
    "print(sentiment)\n",
    "print(orig_sentence)"
   ]
  }
 ],
 "metadata": {
  "kernelspec": {
   "display_name": "Python 3 (ipykernel)",
   "language": "python",
   "name": "python3"
  },
  "language_info": {
   "codemirror_mode": {
    "name": "ipython",
    "version": 3
   },
   "file_extension": ".py",
   "mimetype": "text/x-python",
   "name": "python",
   "nbconvert_exporter": "python",
   "pygments_lexer": "ipython3",
   "version": "3.8.16"
  }
 },
 "nbformat": 4,
 "nbformat_minor": 5
}
