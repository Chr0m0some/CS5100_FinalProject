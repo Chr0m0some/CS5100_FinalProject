{
 "cells": [
  {
   "cell_type": "code",
   "execution_count": 1,
   "id": "92ec1ca1",
   "metadata": {},
   "outputs": [],
   "source": [
    "import pandas as pd\n",
    "import numpy as np\n",
    "import nltk\n",
    "import string\n",
    "import matplotlib.pyplot as plt\n",
    "\n",
    "\n",
    "from nltk.corpus import stopwords\n",
    "from nltk.stem import WordNetLemmatizer\n",
    "from nltk import word_tokenize"
   ]
  },
  {
   "cell_type": "markdown",
   "id": "b27fbb84",
   "metadata": {},
   "source": [
    "# Training Preprocessing"
   ]
  },
  {
   "cell_type": "code",
   "execution_count": 3,
   "id": "b34fd6ec",
   "metadata": {},
   "outputs": [],
   "source": [
    "def process_text(text):\n",
    "    text = text.lower()\n",
    "    text = text.translate(trans_table)\n",
    "    tokens = word_tokenize(text)\n",
    "    filtered_words = [word for word in tokens if word not in stopwords.words('english')]\n",
    "    lemmatizer = WordNetLemmatizer()\n",
    "    tokens = [lemmatizer.lemmatize(word) for word in tokens]\n",
    "    text = ' '.join(filtered_words)\n",
    "    return text\n",
    "\n",
    "trans_table = str.maketrans('', '', string.punctuation)\n",
    "\n",
    "# constants enter your own path to the twitter_training.csv file \n",
    "training_path = '/Users/jackcarpini/Desktop/Northeastern/Final Project/twitter_training.csv'\n",
    "sw = stopwords.words('english')\n",
    "\n",
    "# import data\n",
    "train_df = pd.read_csv(training_path)\n",
    "\n",
    "\n",
    "# drop irrelevant columns\n",
    "train_df.drop(['2401', 'Borderlands'], axis = 1, inplace = True)\n",
    "\n",
    "\n",
    "# rename columns\n",
    "train_df = train_df.rename(columns = {\"Positive\" : \"Sentiment\", \"im getting on borderlands and i will murder you all ,\" : \"Text\"})\n",
    "\n",
    "# remove null values\n",
    "train_df = train_df.dropna()\n",
    "\n",
    "# get rid of extra labels\n",
    "train_df = train_df[~train_df['Sentiment'].isin(['Neutral', 'Irrelevant'])].reset_index(drop=True)\n",
    "\n",
    "# preprocessing \n",
    "train_df[\"Text\"] = train_df[\"Text\"].apply(process_text)\n",
    "\n",
    "# remove duplicate rows\n",
    "train_df = train_df.drop_duplicates()\n",
    "\n",
    "# remove empty rows\n",
    "train_df.replace('', np.nan, inplace = True)\n",
    "train_df = train_df.dropna(subset = [\"Text\"]).reset_index(drop=True)\n",
    "\n",
    "\n"
   ]
  },
  {
   "cell_type": "code",
   "execution_count": 95,
   "id": "a07a3332",
   "metadata": {},
   "outputs": [],
   "source": [
    "train_df.to_csv(\"training_data.csv\", index = False)"
   ]
  },
  {
   "cell_type": "markdown",
   "id": "7dca2daf",
   "metadata": {},
   "source": [
    "# Testing Preprocessing"
   ]
  },
  {
   "cell_type": "code",
   "execution_count": 109,
   "id": "a26902fb",
   "metadata": {},
   "outputs": [],
   "source": [
    "def process_text(text):\n",
    "    text = text.lower()\n",
    "    text = text.translate(trans_table)\n",
    "    tokens = word_tokenize(text)\n",
    "    filtered_words = [word for word in tokens if word not in stopwords.words('english')]\n",
    "    lemmatizer = WordNetLemmatizer()\n",
    "    tokens = [lemmatizer.lemmatize(word) for word in tokens]\n",
    "    text = ' '.join(filtered_words)\n",
    "    return text\n",
    "\n",
    "trans_table = str.maketrans('', '', string.punctuation)\n",
    "\n",
    "# constants enter your own path to twitter_validation.csv file\n",
    "testing_path = '/Users/jackcarpini/Desktop/Northeastern/Final Project/twitter_validation.csv'\n",
    "sw = stopwords.words('english')\n",
    "\n",
    "# import data\n",
    "test_df = pd.read_csv(testing_path)\n",
    "\n",
    "\n",
    "# drop irrelevant columns\n",
    "test_df.drop(['3364', 'Facebook'], axis = 1, inplace = True)\n",
    "\n",
    "\n",
    "# rename columns\n",
    "test_df = test_df.rename(columns = {\"Irrelevant\" : \"Sentiment\", \"I mentioned on Facebook that I was struggling for motivation to go for a run the other day, which has been translated by Tom’s great auntie as ‘Hayley can’t get out of bed’ and told to his grandma, who now thinks I’m a lazy, terrible person 🤣\" : \"Text\"})\n",
    "\n",
    "# remove null values\n",
    "test_df = test_df.dropna()\n",
    "\n",
    "# get rid of extra labels\n",
    "test_df = test_df[~test_df['Sentiment'].isin(['Neutral', 'Irrelevant'])].reset_index(drop=True)\n",
    "\n",
    "# preprocessing \n",
    "test_df[\"Text\"] = test_df[\"Text\"].apply(process_text)\n",
    "\n",
    "# remove duplicate rows\n",
    "test_df = test_df.drop_duplicates()\n",
    "\n",
    "# remove empty rows\n",
    "test_df.replace('', np.nan, inplace = True)\n",
    "test_df = test_df.dropna(subset = [\"Text\"]).reset_index(drop=True)\n"
   ]
  },
  {
   "cell_type": "code",
   "execution_count": 112,
   "id": "c7632c20",
   "metadata": {},
   "outputs": [],
   "source": [
    "test_df.to_csv(\"testing_data.csv\", index = False)"
   ]
  }
 ],
 "metadata": {
  "kernelspec": {
   "display_name": "Python 3 (ipykernel)",
   "language": "python",
   "name": "python3"
  },
  "language_info": {
   "codemirror_mode": {
    "name": "ipython",
    "version": 3
   },
   "file_extension": ".py",
   "mimetype": "text/x-python",
   "name": "python",
   "nbconvert_exporter": "python",
   "pygments_lexer": "ipython3",
   "version": "3.8.16"
  }
 },
 "nbformat": 4,
 "nbformat_minor": 5
}
