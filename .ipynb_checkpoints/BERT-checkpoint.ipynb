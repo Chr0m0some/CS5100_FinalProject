{
 "cells": [
  {
   "cell_type": "markdown",
   "id": "ae8ba4c2-d6d1-4774-8996-db96f5db60eb",
   "metadata": {},
   "source": [
    "# Imports"
   ]
  },
  {
   "cell_type": "code",
   "execution_count": 44,
   "id": "a9904e62-981d-4b51-a296-81f5cf0bebca",
   "metadata": {},
   "outputs": [
    {
     "name": "stdout",
     "output_type": "stream",
     "text": [
      "3.9.19 (main, Mar 21 2024, 17:21:27) [MSC v.1916 64 bit (AMD64)]\n"
     ]
    }
   ],
   "source": [
    "import sys\n",
    "print(sys.version)"
   ]
  },
  {
   "cell_type": "code",
   "execution_count": 80,
   "id": "a3574dda-cef9-4ec2-98dd-864213c8844c",
   "metadata": {},
   "outputs": [],
   "source": [
    "import tensorflow as tf\n",
    "import tensorflow_hub as hub\n",
    "import tensorflow_text as text\n",
    "import matplotlib.pyplot as plt\n",
    "import seaborn as sns\n",
    "import pandas as pd\n",
    "import numpy as np\n",
    "import demoji\n",
    "import re, string\n",
    "import nltk\n",
    "from nltk.corpus import stopwords"
   ]
  },
  {
   "cell_type": "code",
   "execution_count": 46,
   "id": "d0628a0f-81cd-445b-8f2a-808553e272e6",
   "metadata": {},
   "outputs": [
    {
     "name": "stdout",
     "output_type": "stream",
     "text": [
      "Num GPUs Available:  1\n"
     ]
    }
   ],
   "source": [
    "print(\"Num GPUs Available: \", len(tf.config.list_physical_devices('GPU')))"
   ]
  },
  {
   "cell_type": "markdown",
   "id": "9a6da005-25d9-4d03-b877-c807e7145d2f",
   "metadata": {},
   "source": [
    "# Preprocessing"
   ]
  },
  {
   "cell_type": "code",
   "execution_count": 47,
   "id": "0cde07bc-c2c6-4246-bda9-a50342ec0eff",
   "metadata": {},
   "outputs": [],
   "source": [
    "# Dataset CSV Paths\n",
    "training_path = r'C:\\Users\\chris\\Documents\\cs5100\\CS5100_FinalProject\\twitter_training.csv'\n",
    "testing_path = r'C:\\Users\\chris\\Documents\\cs5100\\CS5100_FinalProject\\twitter_validation.csv'\n",
    "\n",
    "# Import data\n",
    "train_data = pd.read_csv(training_path)\n",
    "test_data = pd.read_csv(testing_path)\n",
    "\n",
    "# Drop first row to add data labels\n",
    "train_data.drop(['2401', 'Borderlands'], axis = 1, inplace = True)\n",
    "test_data.drop(['3364', 'Facebook'], axis = 1, inplace = True)\n",
    "\n",
    "# Rename labels \n",
    "train_data = train_data.rename(columns = {\"Positive\" : \"sentiment\", \"im getting on borderlands and i will murder you all ,\" : \"text\"})\n",
    "test_data = test_data.rename(columns = {\"Irrelevant\" : \"sentiment\", \"I mentioned on Facebook that I was struggling for motivation to go for a run the other day, which has been translated by Tom’s great auntie as ‘Hayley can’t get out of bed’ and told to his grandma, who now thinks I’m a lazy, terrible person 🤣\" : \"text\"})"
   ]
  },
  {
   "cell_type": "code",
   "execution_count": 48,
   "id": "f9d81141-d0d1-422b-bebd-3cbdc8a2596d",
   "metadata": {},
   "outputs": [
    {
     "data": {
      "text/plain": [
       "543"
      ]
     },
     "execution_count": 48,
     "metadata": {},
     "output_type": "execute_result"
    }
   ],
   "source": [
    "# Get rid of the neutral and irrelevant class labels\n",
    "train_data = train_data[~train_data['sentiment'].isin(['Neutral', 'Irrelevant'])].reset_index(drop=True)\n",
    "test_data = test_data[~test_data['sentiment'].isin(['Neutral', 'Irrelevant'])].reset_index(drop=True)\n",
    "len(test_data) # Return validation data length"
   ]
  },
  {
   "cell_type": "code",
   "execution_count": 49,
   "id": "5208cb43-d707-4b63-935b-6bff319abef9",
   "metadata": {},
   "outputs": [
    {
     "data": {
      "text/plain": [
       "0    i am coming to the borders and i will kill you...\n",
       "1    im getting on borderlands and i will kill you all\n",
       "2    im coming on borderlands and i will murder you...\n",
       "3    im getting on borderlands 2 and i will murder ...\n",
       "4    im getting into borderlands and i can murder y...\n",
       "Name: cleaner_text, dtype: object"
      ]
     },
     "execution_count": 49,
     "metadata": {},
     "output_type": "execute_result"
    }
   ],
   "source": [
    "# Remove emojis\n",
    "def strip_emoji(text):\n",
    "    return demoji.replace(str(text), r\"\") #remove emoji. Note: Emojis add sentiment to the text. It's harmful to get rid of that data.\n",
    "\n",
    "# Remove punctuations, links, mentions and \\r\\n new line characters\n",
    "def clean_entities(text): \n",
    "    text = text.replace('\\r', '').replace('\\n', ' ').replace('\\n', ' ').lower() #remove \\n and \\r and lowercase\n",
    "    text = re.sub(r\"(?:\\@|https?\\://)\\S+\", \"\", text) #remove links and mentions\n",
    "    text = re.sub(r'[^\\x00-\\x7f]',r'', text) #remove non utf8/ascii characters \n",
    "    banned_list= string.punctuation + 'Ã'+'±'+'ã'+'¼'+'â'+'»'+'§'\n",
    "    table = str.maketrans('', '', banned_list)\n",
    "    text = text.translate(table)\n",
    "    return text\n",
    "\n",
    "# Remove hashtags at the end of the sentence, and keep those in the middle of the sentence by removing just the # symbol\n",
    "def clean_hashtags(tweet):\n",
    "    new_tweet = \" \".join(word.strip() for word in re.split('#(?!(?:hashtag)\\b)[\\w-]+(?=(?:\\s+#[\\w-]+)*\\s*$)', tweet)) #remove hashtags at the end of a tweet\n",
    "    new_tweet2 = \" \".join(word.strip() for word in re.split('#|_', new_tweet)) #remove hashtags symbol from words in the middle of the sentence\n",
    "    return new_tweet2\n",
    "\n",
    "# Filter special chars\n",
    "def filter_chars(a):\n",
    "    sent = []\n",
    "    for word in a.split(' '):\n",
    "        if ('$' in word) | ('&' in word):\n",
    "            sent.append('')\n",
    "        else:\n",
    "            sent.append(word)\n",
    "    return ' '.join(sent)\n",
    "\n",
    "# Remove extra spaces\n",
    "def remove_spaces(text): \n",
    "    return re.sub(\"\\s\\s+\" , \" \", text)\n",
    "\n",
    "cleaned_train = []\n",
    "for t in train_data.text.astype(str):\n",
    "    cleaned_train.append(remove_spaces(filter_chars(clean_hashtags(clean_entities(strip_emoji(t))))))\n",
    "cleaned_test = []\n",
    "for t in test_data.text.astype(str):\n",
    "    cleaned_test.append(remove_spaces(filter_chars(clean_hashtags(clean_entities(strip_emoji(t))))))\n",
    "train_data['cleaner_text'] = cleaned_train\n",
    "test_data['cleaner_text'] = cleaned_test\n",
    "train_data['cleaner_text'].head()"
   ]
  },
  {
   "cell_type": "code",
   "execution_count": 50,
   "id": "ecb75039-8c07-4a90-90e1-08f57acec72b",
   "metadata": {},
   "outputs": [
    {
     "data": {
      "text/html": [
       "<div>\n",
       "<style scoped>\n",
       "    .dataframe tbody tr th:only-of-type {\n",
       "        vertical-align: middle;\n",
       "    }\n",
       "\n",
       "    .dataframe tbody tr th {\n",
       "        vertical-align: top;\n",
       "    }\n",
       "\n",
       "    .dataframe thead th {\n",
       "        text-align: right;\n",
       "    }\n",
       "</style>\n",
       "<table border=\"1\" class=\"dataframe\">\n",
       "  <thead>\n",
       "    <tr style=\"text-align: right;\">\n",
       "      <th></th>\n",
       "      <th>sentiment</th>\n",
       "      <th>text</th>\n",
       "      <th>cleaner_text</th>\n",
       "      <th>state</th>\n",
       "    </tr>\n",
       "  </thead>\n",
       "  <tbody>\n",
       "    <tr>\n",
       "      <th>9077</th>\n",
       "      <td>Negative</td>\n",
       "      <td>@DOTA2 can u fix the FPS drop that is happenin...</td>\n",
       "      <td>can u fix the fps drop that is happening now i...</td>\n",
       "      <td>0</td>\n",
       "    </tr>\n",
       "    <tr>\n",
       "      <th>24344</th>\n",
       "      <td>Negative</td>\n",
       "      <td>@PUBG_Support bro. please stop forcing everyon...</td>\n",
       "      <td>bro please stop forcing everyone to play miram...</td>\n",
       "      <td>0</td>\n",
       "    </tr>\n",
       "    <tr>\n",
       "      <th>8823</th>\n",
       "      <td>Positive</td>\n",
       "      <td>Well. Plus I bought great Voidhammer for $ of ...</td>\n",
       "      <td>well plus i bought great voidhammer for of 19 ...</td>\n",
       "      <td>1</td>\n",
       "    </tr>\n",
       "    <tr>\n",
       "      <th>6245</th>\n",
       "      <td>Negative</td>\n",
       "      <td>Just remember; EB Games could have learnt a le...</td>\n",
       "      <td>just remember eb games could have learnt a les...</td>\n",
       "      <td>0</td>\n",
       "    </tr>\n",
       "    <tr>\n",
       "      <th>8212</th>\n",
       "      <td>Positive</td>\n",
       "      <td>a bit late but I finally got proper tier on my...</td>\n",
       "      <td>a bit late but i finally got proper tier on my...</td>\n",
       "      <td>1</td>\n",
       "    </tr>\n",
       "    <tr>\n",
       "      <th>21799</th>\n",
       "      <td>Positive</td>\n",
       "      <td>I guess Hearthstone loves me. @ PlayHearthston...</td>\n",
       "      <td>i guess hearthstone loves me playhearthstone p...</td>\n",
       "      <td>1</td>\n",
       "    </tr>\n",
       "    <tr>\n",
       "      <th>9271</th>\n",
       "      <td>Positive</td>\n",
       "      <td>Nice! It's time to cool off with a good cold s...</td>\n",
       "      <td>nice its time to cool off with a good cold sho...</td>\n",
       "      <td>1</td>\n",
       "    </tr>\n",
       "    <tr>\n",
       "      <th>33742</th>\n",
       "      <td>Positive</td>\n",
       "      <td>Happy to be back doing what people love :))</td>\n",
       "      <td>happy to be back doing what people love</td>\n",
       "      <td>1</td>\n",
       "    </tr>\n",
       "    <tr>\n",
       "      <th>41336</th>\n",
       "      <td>Negative</td>\n",
       "      <td>@GhostRecon How do we fix the Cursor issue, no...</td>\n",
       "      <td>how do we fix the cursor issue nobody can play...</td>\n",
       "      <td>0</td>\n",
       "    </tr>\n",
       "    <tr>\n",
       "      <th>16980</th>\n",
       "      <td>Positive</td>\n",
       "      <td>Happy birthday to one of the amazing developer...</td>\n",
       "      <td>happy birthday to one of the amazing developer...</td>\n",
       "      <td>1</td>\n",
       "    </tr>\n",
       "  </tbody>\n",
       "</table>\n",
       "</div>"
      ],
      "text/plain": [
       "      sentiment                                               text  \\\n",
       "9077   Negative  @DOTA2 can u fix the FPS drop that is happenin...   \n",
       "24344  Negative  @PUBG_Support bro. please stop forcing everyon...   \n",
       "8823   Positive  Well. Plus I bought great Voidhammer for $ of ...   \n",
       "6245   Negative  Just remember; EB Games could have learnt a le...   \n",
       "8212   Positive  a bit late but I finally got proper tier on my...   \n",
       "21799  Positive  I guess Hearthstone loves me. @ PlayHearthston...   \n",
       "9271   Positive  Nice! It's time to cool off with a good cold s...   \n",
       "33742  Positive        Happy to be back doing what people love :))   \n",
       "41336  Negative  @GhostRecon How do we fix the Cursor issue, no...   \n",
       "16980  Positive  Happy birthday to one of the amazing developer...   \n",
       "\n",
       "                                            cleaner_text  state  \n",
       "9077   can u fix the fps drop that is happening now i...      0  \n",
       "24344  bro please stop forcing everyone to play miram...      0  \n",
       "8823   well plus i bought great voidhammer for of 19 ...      1  \n",
       "6245   just remember eb games could have learnt a les...      0  \n",
       "8212   a bit late but i finally got proper tier on my...      1  \n",
       "21799  i guess hearthstone loves me playhearthstone p...      1  \n",
       "9271   nice its time to cool off with a good cold sho...      1  \n",
       "33742            happy to be back doing what people love      1  \n",
       "41336  how do we fix the cursor issue nobody can play...      0  \n",
       "16980  happy birthday to one of the amazing developer...      1  "
      ]
     },
     "execution_count": 50,
     "metadata": {},
     "output_type": "execute_result"
    }
   ],
   "source": [
    "# Add a boolean state value that represents positive, negative as 1,0\n",
    "train_data['state'] = train_data['sentiment'].apply(lambda x: 1 if x=='Positive' else 0) # Positive is 1, 0 is negative\n",
    "test_data['state'] = test_data['sentiment'].apply(lambda x: 1 if x=='Positive' else 0) \n",
    "train_data.sample(10)"
   ]
  },
  {
   "cell_type": "code",
   "execution_count": 51,
   "id": "dec67b74-d16f-4173-927c-90e442e88450",
   "metadata": {},
   "outputs": [],
   "source": [
    "x_train = train_data.cleaner_text # features\n",
    "y_train = train_data.state # labels\n",
    "\n",
    "x_test = test_data.cleaner_text\n",
    "y_test = test_data.state"
   ]
  },
  {
   "cell_type": "code",
   "execution_count": 52,
   "id": "3578783e-f98a-4a45-8d09-cdcc39d495f9",
   "metadata": {},
   "outputs": [
    {
     "data": {
      "text/html": [
       "<div>\n",
       "<style scoped>\n",
       "    .dataframe tbody tr th:only-of-type {\n",
       "        vertical-align: middle;\n",
       "    }\n",
       "\n",
       "    .dataframe tbody tr th {\n",
       "        vertical-align: top;\n",
       "    }\n",
       "\n",
       "    .dataframe thead tr th {\n",
       "        text-align: left;\n",
       "    }\n",
       "\n",
       "    .dataframe thead tr:last-of-type th {\n",
       "        text-align: right;\n",
       "    }\n",
       "</style>\n",
       "<table border=\"1\" class=\"dataframe\">\n",
       "  <thead>\n",
       "    <tr>\n",
       "      <th></th>\n",
       "      <th colspan=\"8\" halign=\"left\">state</th>\n",
       "    </tr>\n",
       "    <tr>\n",
       "      <th></th>\n",
       "      <th>count</th>\n",
       "      <th>mean</th>\n",
       "      <th>std</th>\n",
       "      <th>min</th>\n",
       "      <th>25%</th>\n",
       "      <th>50%</th>\n",
       "      <th>75%</th>\n",
       "      <th>max</th>\n",
       "    </tr>\n",
       "    <tr>\n",
       "      <th>sentiment</th>\n",
       "      <th></th>\n",
       "      <th></th>\n",
       "      <th></th>\n",
       "      <th></th>\n",
       "      <th></th>\n",
       "      <th></th>\n",
       "      <th></th>\n",
       "      <th></th>\n",
       "    </tr>\n",
       "  </thead>\n",
       "  <tbody>\n",
       "    <tr>\n",
       "      <th>Negative</th>\n",
       "      <td>22542.0</td>\n",
       "      <td>0.0</td>\n",
       "      <td>0.0</td>\n",
       "      <td>0.0</td>\n",
       "      <td>0.0</td>\n",
       "      <td>0.0</td>\n",
       "      <td>0.0</td>\n",
       "      <td>0.0</td>\n",
       "    </tr>\n",
       "    <tr>\n",
       "      <th>Positive</th>\n",
       "      <td>20831.0</td>\n",
       "      <td>1.0</td>\n",
       "      <td>0.0</td>\n",
       "      <td>1.0</td>\n",
       "      <td>1.0</td>\n",
       "      <td>1.0</td>\n",
       "      <td>1.0</td>\n",
       "      <td>1.0</td>\n",
       "    </tr>\n",
       "  </tbody>\n",
       "</table>\n",
       "</div>"
      ],
      "text/plain": [
       "             state                                   \n",
       "             count mean  std  min  25%  50%  75%  max\n",
       "sentiment                                            \n",
       "Negative   22542.0  0.0  0.0  0.0  0.0  0.0  0.0  0.0\n",
       "Positive   20831.0  1.0  0.0  1.0  1.0  1.0  1.0  1.0"
      ]
     },
     "execution_count": 52,
     "metadata": {},
     "output_type": "execute_result"
    }
   ],
   "source": [
    "train_data.groupby('sentiment').describe() # Checking for imbalance in the dataset"
   ]
  },
  {
   "cell_type": "markdown",
   "id": "fa490b51-e7f6-499d-96c7-af9802f8cb5d",
   "metadata": {},
   "source": [
    "# Model "
   ]
  },
  {
   "cell_type": "code",
   "execution_count": 82,
   "id": "7800621a-0239-4a0c-b1bf-d838176dc84d",
   "metadata": {},
   "outputs": [],
   "source": [
    "bert_preprocess = hub.KerasLayer(\"https://tfhub.dev/tensorflow/bert_en_uncased_preprocess/3\")\n",
    "bert_encoder = hub.KerasLayer(\"./bert_unencased\")"
   ]
  },
  {
   "cell_type": "code",
   "execution_count": 83,
   "id": "74e5e0a9-cb2a-4cb0-9839-d23e73cad710",
   "metadata": {},
   "outputs": [],
   "source": [
    "# BERT layers\n",
    "text_input = tf.keras.layers.Input(shape=(), dtype=tf.string, name='text')\n",
    "preprocessed_text = bert_preprocess(text_input)\n",
    "outputs = bert_encoder(preprocessed_text)\n",
    "\n",
    "# Neural network layers \n",
    "# Todo: look at differences between functional and sequential model\n",
    "dropout = tf.keras.layers.Dropout(0.1, name='dropout')(outputs['pooled_output']) # Todo: Look up drop layers and cosine similarity\n",
    "output = tf.keras.layers.Dense(1, activation='sigmoid', name='output')(dropout) # Greater than 0.5 will activate to positive sentiment, and less than that will be negative\n",
    "# Todo: Consider using softmax\n",
    "# Final model\n",
    "model = tf.keras.Model(inputs=[text_input], outputs=[output])"
   ]
  },
  {
   "cell_type": "code",
   "execution_count": 84,
   "id": "6280e063-8b76-4390-bb1f-a8a8ab2e9eb3",
   "metadata": {},
   "outputs": [
    {
     "name": "stdout",
     "output_type": "stream",
     "text": [
      "Model: \"model_3\"\n",
      "__________________________________________________________________________________________________\n",
      " Layer (type)                   Output Shape         Param #     Connected to                     \n",
      "==================================================================================================\n",
      " text (InputLayer)              [(None,)]            0           []                               \n",
      "                                                                                                  \n",
      " keras_layer_8 (KerasLayer)     {'input_word_ids':   0           ['text[0][0]']                   \n",
      "                                (None, 128),                                                      \n",
      "                                 'input_mask': (Non                                               \n",
      "                                e, 128),                                                          \n",
      "                                 'input_type_ids':                                                \n",
      "                                (None, 128)}                                                      \n",
      "                                                                                                  \n",
      " keras_layer_9 (KerasLayer)     {'sequence_output':  335141889   ['keras_layer_8[0][0]',          \n",
      "                                 (None, 128, 1024),               'keras_layer_8[0][1]',          \n",
      "                                 'pooled_output': (               'keras_layer_8[0][2]']          \n",
      "                                None, 1024),                                                      \n",
      "                                 'default': (None,                                                \n",
      "                                1024),                                                            \n",
      "                                 'encoder_outputs':                                               \n",
      "                                 [(None, 128, 1024)                                               \n",
      "                                , (None, 128, 1024)                                               \n",
      "                                , (None, 128, 1024)                                               \n",
      "                                , (None, 128, 1024)                                               \n",
      "                                , (None, 128, 1024)                                               \n",
      "                                , (None, 128, 1024)                                               \n",
      "                                , (None, 128, 1024)                                               \n",
      "                                , (None, 128, 1024)                                               \n",
      "                                , (None, 128, 1024)                                               \n",
      "                                , (None, 128, 1024)                                               \n",
      "                                , (None, 128, 1024)                                               \n",
      "                                , (None, 128, 1024)                                               \n",
      "                                , (None, 128, 1024)                                               \n",
      "                                , (None, 128, 1024)                                               \n",
      "                                , (None, 128, 1024)                                               \n",
      "                                , (None, 128, 1024)                                               \n",
      "                                , (None, 128, 1024)                                               \n",
      "                                , (None, 128, 1024)                                               \n",
      "                                , (None, 128, 1024)                                               \n",
      "                                , (None, 128, 1024)                                               \n",
      "                                , (None, 128, 1024)                                               \n",
      "                                , (None, 128, 1024)                                               \n",
      "                                , (None, 128, 1024)                                               \n",
      "                                , (None, 128, 1024)                                               \n",
      "                                ]}                                                                \n",
      "                                                                                                  \n",
      " dropout (Dropout)              (None, 1024)         0           ['keras_layer_9[0][25]']         \n",
      "                                                                                                  \n",
      " output (Dense)                 (None, 1)            1025        ['dropout[0][0]']                \n",
      "                                                                                                  \n",
      "==================================================================================================\n",
      "Total params: 335,142,914\n",
      "Trainable params: 1,025\n",
      "Non-trainable params: 335,141,889\n",
      "__________________________________________________________________________________________________\n"
     ]
    }
   ],
   "source": [
    "model.summary() #  Lets us see the model"
   ]
  },
  {
   "cell_type": "code",
   "execution_count": 85,
   "id": "e522b691-252a-452e-969f-c921fc083168",
   "metadata": {},
   "outputs": [],
   "source": [
    "metrics = [\n",
    "    tf.keras.metrics.BinaryAccuracy(name='accuracy'),\n",
    "    tf.keras.metrics.Precision(name='precision'),\n",
    "    tf.keras.metrics.Recall(name='recall')\n",
    "]\n",
    "\n",
    "model.compile(optimizer=tf.keras.optimizers.Adam(learning_rate=1e-3), # training is driven by loss function, todo: look at other potential loss functions to justify choice \n",
    "              loss='binary_crossentropy', # Can look into using different cross entropy loss\n",
    "              metrics=metrics)"
   ]
  },
  {
   "cell_type": "code",
   "execution_count": 86,
   "id": "fdb93c8e-340e-4597-9b13-13d1876d0441",
   "metadata": {},
   "outputs": [
    {
     "name": "stdout",
     "output_type": "stream",
     "text": [
      "Epoch 1/6\n",
      "1356/1356 [==============================] - 609s 443ms/step - loss: 0.6766 - accuracy: 0.5856 - precision: 0.5740 - recall: 0.5317\n",
      "Epoch 2/6\n",
      "1356/1356 [==============================] - 599s 442ms/step - loss: 0.6217 - accuracy: 0.6529 - precision: 0.6487 - recall: 0.6047\n",
      "Epoch 3/6\n",
      "1356/1356 [==============================] - 798s 588ms/step - loss: 0.6046 - accuracy: 0.6718 - precision: 0.6682 - recall: 0.6288\n",
      "Epoch 4/6\n",
      "1356/1356 [==============================] - 606s 447ms/step - loss: 0.6013 - accuracy: 0.6779 - precision: 0.6744 - recall: 0.6368\n",
      "Epoch 5/6\n",
      "1356/1356 [==============================] - 607s 448ms/step - loss: 0.5951 - accuracy: 0.6836 - precision: 0.6802 - recall: 0.6439\n",
      "Epoch 6/6\n",
      "1356/1356 [==============================] - 607s 448ms/step - loss: 0.5952 - accuracy: 0.6814 - precision: 0.6775 - recall: 0.6422\n"
     ]
    }
   ],
   "source": [
    "history = model.fit(x_train, y_train, epochs=6)"
   ]
  },
  {
   "cell_type": "markdown",
   "id": "08f58778-950f-4b94-bc0c-98332acedfc3",
   "metadata": {},
   "source": [
    "# Training Loss and Accuracy Plot"
   ]
  },
  {
   "cell_type": "code",
   "execution_count": 87,
   "id": "3ef77baa-4d6a-465a-b8bd-bea0db9ebbc8",
   "metadata": {},
   "outputs": [
    {
     "data": {
      "image/png": "[encoded data removed]",
      "text/plain": [
       "<Figure size 1500x800 with 1 Axes>"
      ]
     },
     "metadata": {},
     "output_type": "display_data"
    }
   ],
   "source": [
    "plt.plot(history.history['loss'], label='Training Loss')\n",
    "plt.plot(history.history['accuracy'], label='Training Accuracy')\n",
    "plt.xlabel('Epoch')\n",
    "plt.ylabel('Value')\n",
    "plt.title('BERT Training Loss and Accuracy')\n",
    "plt.legend()\n",
    "plt.savefig('BERT_training_plot.png')"
   ]
  },
  {
   "cell_type": "code",
   "execution_count": 88,
   "id": "f1547626-c895-4ebb-b2e0-a721b6377bf7",
   "metadata": {},
   "outputs": [
    {
     "name": "stdout",
     "output_type": "stream",
     "text": [
      "17/17 [==============================] - 9s 455ms/step - loss: 0.5234 - accuracy: 0.7587 - precision: 0.7874 - recall: 0.7220\n"
     ]
    },
    {
     "data": {
      "text/plain": [
       "[0.5234127640724182, 0.7587476968765259, 0.787401556968689, 0.7220216393470764]"
      ]
     },
     "execution_count": 88,
     "metadata": {},
     "output_type": "execute_result"
    }
   ],
   "source": [
    "model.evaluate(x_test, y_test)"
   ]
  },
  {
   "cell_type": "code",
   "execution_count": 89,
   "id": "f0364656-6a36-435e-92e8-495523f7492d",
   "metadata": {},
   "outputs": [
    {
     "name": "stdout",
     "output_type": "stream",
     "text": [
      "17/17 [==============================] - 8s 444ms/step\n"
     ]
    }
   ],
   "source": [
    "y_predicted = model.predict(x_test)\n",
    "y_predicted = y_predicted.flatten()\n",
    "y_predicted = np.where(y_predicted > 0.5, 1, 0)"
   ]
  },
  {
   "cell_type": "markdown",
   "id": "da196ab9-c9a0-48c3-827e-28d1e472b723",
   "metadata": {},
   "source": [
    "# Data Metrics"
   ]
  },
  {
   "cell_type": "code",
   "execution_count": 90,
   "id": "a6ad71b0-e78f-4138-8c04-69095222e382",
   "metadata": {},
   "outputs": [
    {
     "name": "stdout",
     "output_type": "stream",
     "text": [
      "              precision    recall  f1-score   support\n",
      "\n",
      "           0       0.73      0.80      0.76       266\n",
      "           1       0.79      0.72      0.75       277\n",
      "\n",
      "    accuracy                           0.76       543\n",
      "   macro avg       0.76      0.76      0.76       543\n",
      "weighted avg       0.76      0.76      0.76       543\n",
      "\n"
     ]
    }
   ],
   "source": [
    "from sklearn.metrics import classification_report, confusion_matrix\n",
    "print(classification_report(y_test, y_predicted))"
   ]
  },
  {
   "cell_type": "code",
   "execution_count": 91,
   "id": "283081ca-9f0a-43a4-afb9-afb2dcd439f0",
   "metadata": {},
   "outputs": [],
   "source": [
    "cm = confusion_matrix(y_test, y_predicted)"
   ]
  },
  {
   "cell_type": "code",
   "execution_count": 92,
   "id": "ec74eb6f-fa48-4adb-8980-c927021427f8",
   "metadata": {},
   "outputs": [
    {
     "data": {
      "image/png": "[encoded data removed]",
      "text/plain": [
       "<Figure size 1500x800 with 1 Axes>"
      ]
     },
     "metadata": {},
     "output_type": "display_data"
    }
   ],
   "source": [
    "# Create plot size for the confusion matrix \n",
    "plt.rcParams['figure.figsize'] = [15,8]\n",
    "#confusion matrix to DataFrame\n",
    "conf_matrix = pd.DataFrame(data = cm,columns = ['Predicted:0','Predicted:1',], index = ['Actual:0','Actual:1',])\n",
    "# Create the heatmap for the confusion matrix\n",
    "sns.heatmap(conf_matrix, annot = True, fmt = 'd', cmap = 'Paired', cbar = False,linewidths = 0.1, annot_kws = {'size':25})\n",
    "plt.xticks(fontsize = 20)\n",
    "plt.yticks(fontsize = 20)\n",
    "plt.savefig('BERT_cm.png')"
   ]
  },
  {
   "cell_type": "markdown",
   "id": "2743c198-ac68-4c7c-90de-b9c3d5f19003",
   "metadata": {},
   "source": [
    "# Custom Input Predictions"
   ]
  },
  {
   "cell_type": "code",
   "execution_count": 93,
   "id": "b03c67c8-c3cb-41e7-a162-a10e5be9fd26",
   "metadata": {},
   "outputs": [
    {
     "name": "stdout",
     "output_type": "stream",
     "text": [
      "1/1 [==============================] - 1s 691ms/step\n"
     ]
    },
    {
     "data": {
      "text/plain": [
       "array([[0.20067921]], dtype=float32)"
      ]
     },
     "execution_count": 93,
     "metadata": {},
     "output_type": "execute_result"
    }
   ],
   "source": [
    "review = [\"disgustingly cool\"]\n",
    "result = model.predict(review)\n",
    "result"
   ]
  },
  {
   "cell_type": "code",
   "execution_count": 94,
   "id": "872cea4c-66a1-4b49-84f1-49811c2aaf65",
   "metadata": {},
   "outputs": [
    {
     "name": "stdout",
     "output_type": "stream",
     "text": [
      "'disgustingly cool'\n",
      "negative >:(\n"
     ]
    }
   ],
   "source": [
    "if (result[0][0] >= 0.5):\n",
    "    print(f\"'{review[0]}'\\npositive :D\")\n",
    "else:\n",
    "    print(f\"'{review[0]}'\\nnegative >:(\")"
   ]
  }
 ],
 "metadata": {
  "kernelspec": {
   "display_name": "finalproj3",
   "language": "python",
   "name": "finalproj3"
  },
  "language_info": {
   "codemirror_mode": {
    "name": "ipython",
    "version": 3
   },
   "file_extension": ".py",
   "mimetype": "text/x-python",
   "name": "python",
   "nbconvert_exporter": "python",
   "pygments_lexer": "ipython3",
   "version": "3.9.19"
  }
 },
 "nbformat": 4,
 "nbformat_minor": 5
}
