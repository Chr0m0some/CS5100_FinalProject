{
 "cells": [
  {
   "cell_type": "markdown",
   "id": "ae8ba4c2-d6d1-4774-8996-db96f5db60eb",
   "metadata": {},
   "source": [
    "# Imports"
   ]
  },
  {
   "cell_type": "code",
   "execution_count": 4,
   "id": "a9904e62-981d-4b51-a296-81f5cf0bebca",
   "metadata": {},
   "outputs": [
    {
     "name": "stdout",
     "output_type": "stream",
     "text": [
      "3.9.18 (main, Sep 11 2023, 13:30:38) [MSC v.1916 64 bit (AMD64)]\n"
     ]
    }
   ],
   "source": [
    "import sys\n",
    "print(sys.version)"
   ]
  },
  {
   "cell_type": "code",
   "execution_count": 21,
   "id": "a3574dda-cef9-4ec2-98dd-864213c8844c",
   "metadata": {},
   "outputs": [],
   "source": [
    "import tensorflow as tf\n",
    "import tensorflow_hub as hub\n",
    "import tensorflow_text as text\n",
    "import pandas as pd\n",
    "import numpy as np\n",
    "import re\n",
    "import nltk\n",
    "from nltk.corpus import stopwords"
   ]
  },
  {
   "cell_type": "code",
   "execution_count": 3,
   "id": "d0628a0f-81cd-445b-8f2a-808553e272e6",
   "metadata": {},
   "outputs": [
    {
     "name": "stdout",
     "output_type": "stream",
     "text": [
      "Num GPUs Available:  1\n"
     ]
    }
   ],
   "source": [
    "print(\"Num GPUs Available: \", len(tf.config.list_physical_devices('GPU')))"
   ]
  },
  {
   "cell_type": "markdown",
   "id": "9a6da005-25d9-4d03-b877-c807e7145d2f",
   "metadata": {},
   "source": [
    "# Preprocessing"
   ]
  },
  {
   "cell_type": "code",
   "execution_count": 4,
   "id": "0cde07bc-c2c6-4246-bda9-a50342ec0eff",
   "metadata": {},
   "outputs": [],
   "source": [
    "# Dataset CSV Paths\n",
    "training_path = r'C:\\Users\\chris\\Documents\\cs5100\\CS5100_FinalProject\\twitter_training.csv'\n",
    "testing_path = r'C:\\Users\\chris\\Documents\\cs5100\\CS5100_FinalProject\\twitter_validation.csv'\n",
    "\n",
    "# Import data\n",
    "train_data = pd.read_csv(training_path)\n",
    "test_data = pd.read_csv(testing_path)\n",
    "\n",
    "# drop irrelevant columns\n",
    "train_data.drop(['2401', 'Borderlands'], axis = 1, inplace = True)\n",
    "test_data.drop(['3364', 'Facebook'], axis = 1, inplace = True)\n",
    "\n",
    "# rename columns\n",
    "train_data = train_data.rename(columns = {\"Positive\" : \"sentiment\", \"im getting on borderlands and i will murder you all ,\" : \"text\"})\n",
    "test_data = test_data.rename(columns = {\"Irrelevant\" : \"sentiment\", \"I mentioned on Facebook that I was struggling for motivation to go for a run the other day, which has been translated by Tom’s great auntie as ‘Hayley can’t get out of bed’ and told to his grandma, who now thinks I’m a lazy, terrible person 🤣\" : \"text\"})"
   ]
  },
  {
   "cell_type": "code",
   "execution_count": 5,
   "id": "f9d81141-d0d1-422b-bebd-3cbdc8a2596d",
   "metadata": {},
   "outputs": [
    {
     "name": "stderr",
     "output_type": "stream",
     "text": [
      "[nltk_data] Downloading package stopwords to\n",
      "[nltk_data]     C:\\Users\\chris\\AppData\\Roaming\\nltk_data...\n",
      "[nltk_data]   Package stopwords is already up-to-date!\n"
     ]
    }
   ],
   "source": [
    "# remove null values\n",
    "train_data = train_data.dropna()\n",
    "test_data = test_data.dropna()\n",
    "\n",
    "# get rid of extra labels\n",
    "train_data = train_data[~train_data['sentiment'].isin(['Neutral', 'Irrelevant'])].reset_index(drop=True)\n",
    "test_data = test_data[~test_data['sentiment'].isin(['Neutral', 'Irrelevant'])].reset_index(drop=True)\n",
    "\n",
    "def tweet_to_words(tweet):\n",
    "    letters_only = re.sub(\"[^a-zA-Z]\", \" \",tweet) \n",
    "    words = letters_only.lower().split()                             \n",
    "    stops = set(stopwords.words(\"english\"))                  \n",
    "    meaningful_words = [w for w in words if not w in stops] \n",
    "    return( \" \".join( meaningful_words ))\n",
    "\n",
    "nltk.download('stopwords')\n",
    "train_data['clean_tweet']=train_data['text'].apply(lambda x: tweet_to_words(x))\n",
    "test_data['clean_tweet']=test_data['text'].apply(lambda x: tweet_to_words(x))"
   ]
  },
  {
   "cell_type": "code",
   "execution_count": 6,
   "id": "ecb75039-8c07-4a90-90e1-08f57acec72b",
   "metadata": {},
   "outputs": [
    {
     "data": {
      "text/html": [
       "<div>\n",
       "<style scoped>\n",
       "    .dataframe tbody tr th:only-of-type {\n",
       "        vertical-align: middle;\n",
       "    }\n",
       "\n",
       "    .dataframe tbody tr th {\n",
       "        vertical-align: top;\n",
       "    }\n",
       "\n",
       "    .dataframe thead th {\n",
       "        text-align: right;\n",
       "    }\n",
       "</style>\n",
       "<table border=\"1\" class=\"dataframe\">\n",
       "  <thead>\n",
       "    <tr style=\"text-align: right;\">\n",
       "      <th></th>\n",
       "      <th>sentiment</th>\n",
       "      <th>text</th>\n",
       "      <th>clean_tweet</th>\n",
       "      <th>state</th>\n",
       "    </tr>\n",
       "  </thead>\n",
       "  <tbody>\n",
       "    <tr>\n",
       "      <th>23187</th>\n",
       "      <td>Negative</td>\n",
       "      <td>Is Battlefield 1 a good game and why?</td>\n",
       "      <td>battlefield good game</td>\n",
       "      <td>0</td>\n",
       "    </tr>\n",
       "    <tr>\n",
       "      <th>29915</th>\n",
       "      <td>Positive</td>\n",
       "      <td>Red Dead Redemption 2 &gt;&gt;&gt; The V</td>\n",
       "      <td>red dead redemption v</td>\n",
       "      <td>1</td>\n",
       "    </tr>\n",
       "    <tr>\n",
       "      <th>36462</th>\n",
       "      <td>Negative</td>\n",
       "      <td>I hate that I need to get Madden now</td>\n",
       "      <td>hate need get madden</td>\n",
       "      <td>0</td>\n",
       "    </tr>\n",
       "    <tr>\n",
       "      <th>312</th>\n",
       "      <td>Positive</td>\n",
       "      <td>I know it doesn't look like much, but Borderla...</td>\n",
       "      <td>know look like much borderlands favorite game ...</td>\n",
       "      <td>1</td>\n",
       "    </tr>\n",
       "    <tr>\n",
       "      <th>41045</th>\n",
       "      <td>Positive</td>\n",
       "      <td>30 minutes to my latest video on @ GhostRecons...</td>\n",
       "      <td>minutes latest video ghostrecons pvp even thou...</td>\n",
       "      <td>1</td>\n",
       "    </tr>\n",
       "    <tr>\n",
       "      <th>5291</th>\n",
       "      <td>Positive</td>\n",
       "      <td>I’m very excited! Finally a solution for these...</td>\n",
       "      <td>excited finally solution money troubles thanks...</td>\n",
       "      <td>1</td>\n",
       "    </tr>\n",
       "    <tr>\n",
       "      <th>22702</th>\n",
       "      <td>Positive</td>\n",
       "      <td>Battlefield Brigade 1 looked REALLY good</td>\n",
       "      <td>battlefield brigade looked really good</td>\n",
       "      <td>1</td>\n",
       "    </tr>\n",
       "    <tr>\n",
       "      <th>42082</th>\n",
       "      <td>Positive</td>\n",
       "      <td>Dell XPS 17 9700 Graphics Card Missing and Fli...</td>\n",
       "      <td>dell xps graphics card missing flickering scre...</td>\n",
       "      <td>1</td>\n",
       "    </tr>\n",
       "    <tr>\n",
       "      <th>23374</th>\n",
       "      <td>Negative</td>\n",
       "      <td>India's Parthenon after learning that the gove...</td>\n",
       "      <td>india parthenon learning government banned</td>\n",
       "      <td>0</td>\n",
       "    </tr>\n",
       "    <tr>\n",
       "      <th>2269</th>\n",
       "      <td>Negative</td>\n",
       "      <td>@ Treyarch I pre-ordered black ops Cold War an...</td>\n",
       "      <td>treyarch pre ordered black ops cold war let pl...</td>\n",
       "      <td>0</td>\n",
       "    </tr>\n",
       "  </tbody>\n",
       "</table>\n",
       "</div>"
      ],
      "text/plain": [
       "      sentiment                                               text  \\\n",
       "23187  Negative              Is Battlefield 1 a good game and why?   \n",
       "29915  Positive                    Red Dead Redemption 2 >>> The V   \n",
       "36462  Negative               I hate that I need to get Madden now   \n",
       "312    Positive  I know it doesn't look like much, but Borderla...   \n",
       "41045  Positive  30 minutes to my latest video on @ GhostRecons...   \n",
       "5291   Positive  I’m very excited! Finally a solution for these...   \n",
       "22702  Positive           Battlefield Brigade 1 looked REALLY good   \n",
       "42082  Positive  Dell XPS 17 9700 Graphics Card Missing and Fli...   \n",
       "23374  Negative  India's Parthenon after learning that the gove...   \n",
       "2269   Negative  @ Treyarch I pre-ordered black ops Cold War an...   \n",
       "\n",
       "                                             clean_tweet  state  \n",
       "23187                              battlefield good game      0  \n",
       "29915                              red dead redemption v      1  \n",
       "36462                               hate need get madden      0  \n",
       "312    know look like much borderlands favorite game ...      1  \n",
       "41045  minutes latest video ghostrecons pvp even thou...      1  \n",
       "5291   excited finally solution money troubles thanks...      1  \n",
       "22702             battlefield brigade looked really good      1  \n",
       "42082  dell xps graphics card missing flickering scre...      1  \n",
       "23374         india parthenon learning government banned      0  \n",
       "2269   treyarch pre ordered black ops cold war let pl...      0  "
      ]
     },
     "execution_count": 6,
     "metadata": {},
     "output_type": "execute_result"
    }
   ],
   "source": [
    "# Add a boolean state value that represents positive, negative as 1,0\n",
    "train_data['state'] = train_data['sentiment'].apply(lambda x: 1 if x=='Positive' else 0) # Positive is 1, 0 is negative\n",
    "test_data['state'] = test_data['sentiment'].apply(lambda x: 1 if x=='Positive' else 0) \n",
    "train_data.sample(10)"
   ]
  },
  {
   "cell_type": "code",
   "execution_count": 7,
   "id": "dec67b74-d16f-4173-927c-90e442e88450",
   "metadata": {},
   "outputs": [],
   "source": [
    "x_train = train_data.clean_tweet # features\n",
    "y_train = train_data.state # labels\n",
    "\n",
    "x_test = test_data.clean_tweet\n",
    "y_test = test_data.state"
   ]
  },
  {
   "cell_type": "code",
   "execution_count": 8,
   "id": "3578783e-f98a-4a45-8d09-cdcc39d495f9",
   "metadata": {},
   "outputs": [],
   "source": [
    "# train_data.groupby('sentiment').describe() # Checking for imbalance in the dataset"
   ]
  },
  {
   "cell_type": "code",
   "execution_count": 9,
   "id": "7800621a-0239-4a0c-b1bf-d838176dc84d",
   "metadata": {},
   "outputs": [],
   "source": [
    "bert_preprocess = hub.KerasLayer(\"https://tfhub.dev/tensorflow/bert_en_uncased_preprocess/3\")\n",
    "bert_encoder = hub.KerasLayer(\"https://tfhub.dev/tensorflow/bert_en_uncased_L-12_H-768_A-12/4\")"
   ]
  },
  {
   "cell_type": "code",
   "execution_count": 10,
   "id": "74e5e0a9-cb2a-4cb0-9839-d23e73cad710",
   "metadata": {},
   "outputs": [],
   "source": [
    "# BERT layers\n",
    "text_input = tf.keras.layers.Input(shape=(), dtype=tf.string, name='text')\n",
    "preprocessed_text = bert_preprocess(text_input)\n",
    "outputs = bert_encoder(preprocessed_text)\n",
    "\n",
    "# Neural network layers \n",
    "# Todo: look at differences between functional and sequential model\n",
    "dropout = tf.keras.layers.Dropout(0.1, name='dropout')(outputs['pooled_output']) # Todo: Look up drop layers and cosine similarity\n",
    "output = tf.keras.layers.Dense(1, activation='sigmoid', name='output')(dropout) # Greater than 0.5 will activate to positive sentiment, and less than that will be negative\n",
    "\n",
    "# Final model\n",
    "model = tf.keras.Model(inputs=[text_input], outputs=[output])"
   ]
  },
  {
   "cell_type": "code",
   "execution_count": 11,
   "id": "6280e063-8b76-4390-bb1f-a8a8ab2e9eb3",
   "metadata": {},
   "outputs": [
    {
     "name": "stdout",
     "output_type": "stream",
     "text": [
      "Model: \"model\"\n",
      "__________________________________________________________________________________________________\n",
      " Layer (type)                   Output Shape         Param #     Connected to                     \n",
      "==================================================================================================\n",
      " text (InputLayer)              [(None,)]            0           []                               \n",
      "                                                                                                  \n",
      " keras_layer (KerasLayer)       {'input_type_ids':   0           ['text[0][0]']                   \n",
      "                                (None, 128),                                                      \n",
      "                                 'input_mask': (Non                                               \n",
      "                                e, 128),                                                          \n",
      "                                 'input_word_ids':                                                \n",
      "                                (None, 128)}                                                      \n",
      "                                                                                                  \n",
      " keras_layer_1 (KerasLayer)     {'pooled_output': (  109482241   ['keras_layer[0][0]',            \n",
      "                                None, 768),                       'keras_layer[0][1]',            \n",
      "                                 'encoder_outputs':               'keras_layer[0][2]']            \n",
      "                                 [(None, 128, 768),                                               \n",
      "                                 (None, 128, 768),                                                \n",
      "                                 (None, 128, 768),                                                \n",
      "                                 (None, 128, 768),                                                \n",
      "                                 (None, 128, 768),                                                \n",
      "                                 (None, 128, 768),                                                \n",
      "                                 (None, 128, 768),                                                \n",
      "                                 (None, 128, 768),                                                \n",
      "                                 (None, 128, 768),                                                \n",
      "                                 (None, 128, 768),                                                \n",
      "                                 (None, 128, 768),                                                \n",
      "                                 (None, 128, 768)],                                               \n",
      "                                 'sequence_output':                                               \n",
      "                                 (None, 128, 768),                                                \n",
      "                                 'default': (None,                                                \n",
      "                                768)}                                                             \n",
      "                                                                                                  \n",
      " dropout (Dropout)              (None, 768)          0           ['keras_layer_1[0][13]']         \n",
      "                                                                                                  \n",
      " output (Dense)                 (None, 1)            769         ['dropout[0][0]']                \n",
      "                                                                                                  \n",
      "==================================================================================================\n",
      "Total params: 109,483,010\n",
      "Trainable params: 769\n",
      "Non-trainable params: 109,482,241\n",
      "__________________________________________________________________________________________________\n"
     ]
    }
   ],
   "source": [
    "model.summary() #  Lets us see the model"
   ]
  },
  {
   "cell_type": "code",
   "execution_count": 13,
   "id": "e522b691-252a-452e-969f-c921fc083168",
   "metadata": {},
   "outputs": [],
   "source": [
    "metrics = [\n",
    "    tf.keras.metrics.BinaryAccuracy(name='accuracy'),\n",
    "    tf.keras.metrics.Precision(name='precision'),\n",
    "    tf.keras.metrics.Recall(name='recall')\n",
    "]\n",
    "\n",
    "model.compile(optimizer='adam', # training is driven by loss function, todo: look at other potential loss functions to justify choice\n",
    "              loss='binary_crossentropy', \n",
    "              metrics=metrics)"
   ]
  },
  {
   "cell_type": "code",
   "execution_count": 14,
   "id": "fdb93c8e-340e-4597-9b13-13d1876d0441",
   "metadata": {},
   "outputs": [
    {
     "name": "stdout",
     "output_type": "stream",
     "text": [
      "WARNING:tensorflow:Keras is training/fitting/evaluating on array-like data. Keras may not be optimized for this format, so if your input data format is supported by TensorFlow I/O (https://github.com/tensorflow/io) we recommend using that to load a Dataset instead.\n"
     ]
    },
    {
     "name": "stderr",
     "output_type": "stream",
     "text": [
      "WARNING:tensorflow:Keras is training/fitting/evaluating on array-like data. Keras may not be optimized for this format, so if your input data format is supported by TensorFlow I/O (https://github.com/tensorflow/io) we recommend using that to load a Dataset instead.\n"
     ]
    },
    {
     "name": "stdout",
     "output_type": "stream",
     "text": [
      "Epoch 1/10\n",
      "1345/1345 [==============================] - 257s 187ms/step - loss: 0.6244 - accuracy: 0.6508 - precision: 0.6430 - recall: 0.6132\n",
      "Epoch 2/10\n",
      "1345/1345 [==============================] - 245s 182ms/step - loss: 0.5730 - accuracy: 0.7089 - precision: 0.6998 - recall: 0.6896\n",
      "Epoch 3/10\n",
      "1345/1345 [==============================] - 213s 159ms/step - loss: 0.5615 - accuracy: 0.7140 - precision: 0.7037 - recall: 0.6987\n",
      "Epoch 4/10\n",
      "1345/1345 [==============================] - 208s 155ms/step - loss: 0.5562 - accuracy: 0.7155 - precision: 0.7056 - recall: 0.6994\n",
      "Epoch 5/10\n",
      "1345/1345 [==============================] - 210s 156ms/step - loss: 0.5490 - accuracy: 0.7241 - precision: 0.7162 - recall: 0.7046\n",
      "Epoch 6/10\n",
      "1345/1345 [==============================] - 223s 166ms/step - loss: 0.5489 - accuracy: 0.7254 - precision: 0.7167 - recall: 0.7079\n",
      "Epoch 7/10\n",
      "1345/1345 [==============================] - 240s 178ms/step - loss: 0.5439 - accuracy: 0.7261 - precision: 0.7174 - recall: 0.7091\n",
      "Epoch 8/10\n",
      "1345/1345 [==============================] - 230s 171ms/step - loss: 0.5438 - accuracy: 0.7271 - precision: 0.7175 - recall: 0.7120\n",
      "Epoch 9/10\n",
      "1345/1345 [==============================] - 221s 165ms/step - loss: 0.5434 - accuracy: 0.7275 - precision: 0.7188 - recall: 0.7104\n",
      "Epoch 10/10\n",
      "1345/1345 [==============================] - 214s 159ms/step - loss: 0.5408 - accuracy: 0.7276 - precision: 0.7195 - recall: 0.7092\n"
     ]
    },
    {
     "data": {
      "text/plain": [
       "<keras.callbacks.History at 0x29e123fd820>"
      ]
     },
     "execution_count": 14,
     "metadata": {},
     "output_type": "execute_result"
    }
   ],
   "source": [
    "model.fit(x_train, y_train, epochs=10)"
   ]
  },
  {
   "cell_type": "code",
   "execution_count": 15,
   "id": "f1547626-c895-4ebb-b2e0-a721b6377bf7",
   "metadata": {},
   "outputs": [
    {
     "name": "stdout",
     "output_type": "stream",
     "text": [
      "WARNING:tensorflow:Keras is training/fitting/evaluating on array-like data. Keras may not be optimized for this format, so if your input data format is supported by TensorFlow I/O (https://github.com/tensorflow/io) we recommend using that to load a Dataset instead.\n"
     ]
    },
    {
     "name": "stderr",
     "output_type": "stream",
     "text": [
      "WARNING:tensorflow:Keras is training/fitting/evaluating on array-like data. Keras may not be optimized for this format, so if your input data format is supported by TensorFlow I/O (https://github.com/tensorflow/io) we recommend using that to load a Dataset instead.\n"
     ]
    },
    {
     "name": "stdout",
     "output_type": "stream",
     "text": [
      "17/17 [==============================] - 4s 161ms/step - loss: 0.5200 - accuracy: 0.7587 - precision: 0.7664 - recall: 0.7581\n"
     ]
    },
    {
     "data": {
      "text/plain": [
       "[0.5199918150901794,\n",
       " 0.7587476968765259,\n",
       " 0.7664233446121216,\n",
       " 0.7581227421760559]"
      ]
     },
     "execution_count": 15,
     "metadata": {},
     "output_type": "execute_result"
    }
   ],
   "source": [
    "model.evaluate(x_test, y_test)"
   ]
  },
  {
   "cell_type": "code",
   "execution_count": 16,
   "id": "f0364656-6a36-435e-92e8-495523f7492d",
   "metadata": {},
   "outputs": [
    {
     "name": "stdout",
     "output_type": "stream",
     "text": [
      "WARNING:tensorflow:Keras is training/fitting/evaluating on array-like data. Keras may not be optimized for this format, so if your input data format is supported by TensorFlow I/O (https://github.com/tensorflow/io) we recommend using that to load a Dataset instead.\n"
     ]
    },
    {
     "name": "stderr",
     "output_type": "stream",
     "text": [
      "WARNING:tensorflow:Keras is training/fitting/evaluating on array-like data. Keras may not be optimized for this format, so if your input data format is supported by TensorFlow I/O (https://github.com/tensorflow/io) we recommend using that to load a Dataset instead.\n"
     ]
    },
    {
     "name": "stdout",
     "output_type": "stream",
     "text": [
      "17/17 [==============================] - 3s 165ms/step\n"
     ]
    }
   ],
   "source": [
    "y_predicted = model.predict(x_test)\n",
    "y_predicted = y_predicted.flatten()\n",
    "y_predicted = np.where(y_predicted > 0.5, 1, 0)"
   ]
  },
  {
   "cell_type": "code",
   "execution_count": 22,
   "id": "a6ad71b0-e78f-4138-8c04-69095222e382",
   "metadata": {},
   "outputs": [
    {
     "name": "stdout",
     "output_type": "stream",
     "text": [
      "              precision    recall  f1-score   support\n",
      "\n",
      "           0       0.75      0.76      0.76       266\n",
      "           1       0.77      0.76      0.76       277\n",
      "\n",
      "    accuracy                           0.76       543\n",
      "   macro avg       0.76      0.76      0.76       543\n",
      "weighted avg       0.76      0.76      0.76       543\n",
      "\n"
     ]
    }
   ],
   "source": [
    "from sklearn.metrics import classification_report\n",
    "print(classification_report(y_test, y_predicted))"
   ]
  },
  {
   "cell_type": "code",
   "execution_count": null,
   "id": "b03c67c8-c3cb-41e7-a162-a10e5be9fd26",
   "metadata": {},
   "outputs": [],
   "source": []
  }
 ],
 "metadata": {
  "kernelspec": {
   "display_name": "finalproj3",
   "language": "python",
   "name": "finalproj3"
  },
  "language_info": {
   "codemirror_mode": {
    "name": "ipython",
    "version": 3
   },
   "file_extension": ".py",
   "mimetype": "text/x-python",
   "name": "python",
   "nbconvert_exporter": "python",
   "pygments_lexer": "ipython3",
   "version": "3.9.19"
  }
 },
 "nbformat": 4,
 "nbformat_minor": 5
}
