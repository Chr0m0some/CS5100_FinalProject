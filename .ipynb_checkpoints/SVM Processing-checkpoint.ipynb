{
 "cells": [
  {
   "cell_type": "markdown",
   "id": "b98a3aac",
   "metadata": {},
   "source": [
    "# Imports"
   ]
  },
  {
   "cell_type": "code",
   "execution_count": 23,
   "id": "3b940bc5",
   "metadata": {},
   "outputs": [],
   "source": [
    "import pandas as pd\n",
    "import numpy as np\n",
    "import matplotlib.pyplot as plt\n",
    "import re\n",
    "import nltk\n",
    "from nltk.corpus import stopwords\n",
    "from sklearn.metrics import accuracy_score"
   ]
  },
  {
   "cell_type": "markdown",
   "id": "f41e89f5",
   "metadata": {},
   "source": [
    "# Preprocessing"
   ]
  },
  {
   "cell_type": "code",
   "execution_count": 24,
   "id": "c0f16fa0",
   "metadata": {},
   "outputs": [
    {
     "data": {
      "text/html": [
       "<div>\n",
       "<style scoped>\n",
       "    .dataframe tbody tr th:only-of-type {\n",
       "        vertical-align: middle;\n",
       "    }\n",
       "\n",
       "    .dataframe tbody tr th {\n",
       "        vertical-align: top;\n",
       "    }\n",
       "\n",
       "    .dataframe thead th {\n",
       "        text-align: right;\n",
       "    }\n",
       "</style>\n",
       "<table border=\"1\" class=\"dataframe\">\n",
       "  <thead>\n",
       "    <tr style=\"text-align: right;\">\n",
       "      <th></th>\n",
       "      <th>sentiment</th>\n",
       "      <th>text</th>\n",
       "    </tr>\n",
       "  </thead>\n",
       "  <tbody>\n",
       "    <tr>\n",
       "      <th>0</th>\n",
       "      <td>Neutral</td>\n",
       "      <td>BBC News - Amazon boss Jeff Bezos rejects clai...</td>\n",
       "    </tr>\n",
       "    <tr>\n",
       "      <th>1</th>\n",
       "      <td>Negative</td>\n",
       "      <td>@Microsoft Why do I pay for WORD when it funct...</td>\n",
       "    </tr>\n",
       "    <tr>\n",
       "      <th>2</th>\n",
       "      <td>Negative</td>\n",
       "      <td>CSGO matchmaking is so full of closet hacking,...</td>\n",
       "    </tr>\n",
       "    <tr>\n",
       "      <th>3</th>\n",
       "      <td>Neutral</td>\n",
       "      <td>Now the President is slapping Americans in the...</td>\n",
       "    </tr>\n",
       "    <tr>\n",
       "      <th>4</th>\n",
       "      <td>Negative</td>\n",
       "      <td>Hi @EAHelp I’ve had Madeleine McCann in my cel...</td>\n",
       "    </tr>\n",
       "  </tbody>\n",
       "</table>\n",
       "</div>"
      ],
      "text/plain": [
       "  sentiment                                               text\n",
       "0   Neutral  BBC News - Amazon boss Jeff Bezos rejects clai...\n",
       "1  Negative  @Microsoft Why do I pay for WORD when it funct...\n",
       "2  Negative  CSGO matchmaking is so full of closet hacking,...\n",
       "3   Neutral  Now the President is slapping Americans in the...\n",
       "4  Negative  Hi @EAHelp I’ve had Madeleine McCann in my cel..."
      ]
     },
     "execution_count": 24,
     "metadata": {},
     "output_type": "execute_result"
    }
   ],
   "source": [
    "# Dataset CSV Paths\n",
    "training_path = '/Users/chris/Documents/CS 5100/Final Project/twitter_training.csv'\n",
    "testing_path = '/Users/chris/Documents/CS 5100/Final Project/twitter_validation.csv'\n",
    "\n",
    "# Import data\n",
    "train_data = pd.read_csv(training_path)\n",
    "test_data = pd.read_csv(testing_path)\n",
    "\n",
    "# drop irrelevant columns\n",
    "train_data.drop(['2401', 'Borderlands'], axis = 1, inplace = True)\n",
    "test_data.drop(['3364', 'Facebook'], axis = 1, inplace = True)\n",
    "\n",
    "# rename columns\n",
    "train_data = train_data.rename(columns = {\"Positive\" : \"sentiment\", \"im getting on borderlands and i will murder you all ,\" : \"text\"})\n",
    "test_data = test_data.rename(columns = {\"Irrelevant\" : \"sentiment\", \"I mentioned on Facebook that I was struggling for motivation to go for a run the other day, which has been translated by Tom’s great auntie as ‘Hayley can’t get out of bed’ and told to his grandma, who now thinks I’m a lazy, terrible person 🤣\" : \"text\"})\n",
    "test_data.head()"
   ]
  },
  {
   "cell_type": "code",
   "execution_count": 25,
   "id": "2258f1f7",
   "metadata": {},
   "outputs": [
    {
     "name": "stderr",
     "output_type": "stream",
     "text": [
      "[nltk_data] Downloading package stopwords to\n",
      "[nltk_data]     C:\\Users\\chris\\AppData\\Roaming\\nltk_data...\n",
      "[nltk_data]   Package stopwords is already up-to-date!\n"
     ]
    },
    {
     "data": {
      "text/html": [
       "<div>\n",
       "<style scoped>\n",
       "    .dataframe tbody tr th:only-of-type {\n",
       "        vertical-align: middle;\n",
       "    }\n",
       "\n",
       "    .dataframe tbody tr th {\n",
       "        vertical-align: top;\n",
       "    }\n",
       "\n",
       "    .dataframe thead th {\n",
       "        text-align: right;\n",
       "    }\n",
       "</style>\n",
       "<table border=\"1\" class=\"dataframe\">\n",
       "  <thead>\n",
       "    <tr style=\"text-align: right;\">\n",
       "      <th></th>\n",
       "      <th>sentiment</th>\n",
       "      <th>text</th>\n",
       "      <th>clean_tweet</th>\n",
       "    </tr>\n",
       "  </thead>\n",
       "  <tbody>\n",
       "    <tr>\n",
       "      <th>0</th>\n",
       "      <td>Positive</td>\n",
       "      <td>I am coming to the borders and I will kill you...</td>\n",
       "      <td>coming borders kill</td>\n",
       "    </tr>\n",
       "    <tr>\n",
       "      <th>1</th>\n",
       "      <td>Positive</td>\n",
       "      <td>im getting on borderlands and i will kill you ...</td>\n",
       "      <td>im getting borderlands kill</td>\n",
       "    </tr>\n",
       "    <tr>\n",
       "      <th>2</th>\n",
       "      <td>Positive</td>\n",
       "      <td>im coming on borderlands and i will murder you...</td>\n",
       "      <td>im coming borderlands murder</td>\n",
       "    </tr>\n",
       "    <tr>\n",
       "      <th>3</th>\n",
       "      <td>Positive</td>\n",
       "      <td>im getting on borderlands 2 and i will murder ...</td>\n",
       "      <td>im getting borderlands murder</td>\n",
       "    </tr>\n",
       "    <tr>\n",
       "      <th>4</th>\n",
       "      <td>Positive</td>\n",
       "      <td>im getting into borderlands and i can murder y...</td>\n",
       "      <td>im getting borderlands murder</td>\n",
       "    </tr>\n",
       "  </tbody>\n",
       "</table>\n",
       "</div>"
      ],
      "text/plain": [
       "  sentiment                                               text  \\\n",
       "0  Positive  I am coming to the borders and I will kill you...   \n",
       "1  Positive  im getting on borderlands and i will kill you ...   \n",
       "2  Positive  im coming on borderlands and i will murder you...   \n",
       "3  Positive  im getting on borderlands 2 and i will murder ...   \n",
       "4  Positive  im getting into borderlands and i can murder y...   \n",
       "\n",
       "                     clean_tweet  \n",
       "0            coming borders kill  \n",
       "1    im getting borderlands kill  \n",
       "2   im coming borderlands murder  \n",
       "3  im getting borderlands murder  \n",
       "4  im getting borderlands murder  "
      ]
     },
     "execution_count": 25,
     "metadata": {},
     "output_type": "execute_result"
    }
   ],
   "source": [
    "# remove null values\n",
    "train_data = train_data.dropna()\n",
    "test_data = test_data.dropna()\n",
    "\n",
    "# get rid of extra labels\n",
    "train_data = train_data[~train_data['sentiment'].isin(['Neutral', 'Irrelevant'])].reset_index(drop=True)\n",
    "test_data = test_data[~test_data['sentiment'].isin(['Neutral', 'Irrelevant'])].reset_index(drop=True)\n",
    "\n",
    "def tweet_to_words(tweet):\n",
    "    letters_only = re.sub(\"[^a-zA-Z]\", \" \",tweet) \n",
    "    words = letters_only.lower().split()                             \n",
    "    stops = set(stopwords.words(\"english\"))                  \n",
    "    meaningful_words = [w for w in words if not w in stops] \n",
    "    return( \" \".join( meaningful_words ))\n",
    "\n",
    "nltk.download('stopwords')\n",
    "train_data['clean_tweet']=train_data['text'].apply(lambda x: tweet_to_words(x))\n",
    "test_data['clean_tweet']=test_data['text'].apply(lambda x: tweet_to_words(x))\n",
    "train_data.head()"
   ]
  },
  {
   "cell_type": "markdown",
   "id": "ac60e4dc",
   "metadata": {},
   "source": [
    "# Vectorize"
   ]
  },
  {
   "cell_type": "code",
   "execution_count": 26,
   "id": "0aa27443",
   "metadata": {},
   "outputs": [
    {
     "name": "stdout",
     "output_type": "stream",
     "text": [
      "43012 43012\n"
     ]
    }
   ],
   "source": [
    "x_train = train_data.clean_tweet\n",
    "y_train = train_data.sentiment\n",
    "\n",
    "x_test = test_data.clean_tweet\n",
    "y_test = test_data.sentiment\n",
    "print(len(x_train), len(y_train))"
   ]
  },
  {
   "cell_type": "code",
   "execution_count": 27,
   "id": "b49b428a",
   "metadata": {},
   "outputs": [],
   "source": [
    "# Split data\n",
    "# x_train, x_test, y_train, y_test = train_test_split(x, y, random_state=42)"
   ]
  },
  {
   "cell_type": "code",
   "execution_count": 28,
   "id": "2f8fd53d",
   "metadata": {},
   "outputs": [
    {
     "data": {
      "text/plain": [
       "CountVectorizer()"
      ]
     },
     "execution_count": 28,
     "metadata": {},
     "output_type": "execute_result"
    }
   ],
   "source": [
    "from sklearn.feature_extraction.text import CountVectorizer\n",
    "\n",
    "# instantiate the vectorizer\n",
    "vect = CountVectorizer()\n",
    "vect.fit(x_train)"
   ]
  },
  {
   "cell_type": "code",
   "execution_count": 29,
   "id": "2eedb4ef",
   "metadata": {},
   "outputs": [],
   "source": [
    "# Use the trained to create a document-term matrix from train and test sets\n",
    "x_train_dtm = vect.transform(x_train)\n",
    "x_test_dtm = vect.transform(x_test)"
   ]
  },
  {
   "cell_type": "code",
   "execution_count": 30,
   "id": "3a5c24e9",
   "metadata": {},
   "outputs": [
    {
     "data": {
      "text/plain": [
       "CountVectorizer(max_df=0.7, max_features=100, min_df=0.1, ngram_range=(1, 2),\n",
       "                stop_words='english')"
      ]
     },
     "execution_count": 30,
     "metadata": {},
     "output_type": "execute_result"
    }
   ],
   "source": [
    "vect_tunned = CountVectorizer(stop_words='english', ngram_range=(1,2), min_df=0.1, max_df=0.7, max_features=100)\n",
    "vect_tunned"
   ]
  },
  {
   "cell_type": "code",
   "execution_count": 31,
   "id": "1a307154",
   "metadata": {},
   "outputs": [],
   "source": [
    "#training SVM model with linear kernel\n",
    "#Support Vector Classification-wrapper around SVM\n",
    "from sklearn.svm import SVC\n",
    "model = SVC(kernel='linear', random_state = 10)\n",
    "model.fit(x_train_dtm, y_train)\n",
    "#predicting output for test data\n",
    "pred = model.predict(x_test_dtm)"
   ]
  },
  {
   "cell_type": "code",
   "execution_count": 32,
   "id": "2a8ab370",
   "metadata": {},
   "outputs": [
    {
     "data": {
      "text/plain": [
       "0.9723756906077348"
      ]
     },
     "execution_count": 32,
     "metadata": {},
     "output_type": "execute_result"
    }
   ],
   "source": [
    "#accuracy score\n",
    "accuracy_score(y_test,pred)"
   ]
  }
 ],
 "metadata": {
  "kernelspec": {
   "display_name": "Python 3 (ipykernel)",
   "language": "python",
   "name": "python3"
  },
  "language_info": {
   "codemirror_mode": {
    "name": "ipython",
    "version": 3
   },
   "file_extension": ".py",
   "mimetype": "text/x-python",
   "name": "python",
   "nbconvert_exporter": "python",
   "pygments_lexer": "ipython3",
   "version": "3.9.13"
  }
 },
 "nbformat": 4,
 "nbformat_minor": 5
}
