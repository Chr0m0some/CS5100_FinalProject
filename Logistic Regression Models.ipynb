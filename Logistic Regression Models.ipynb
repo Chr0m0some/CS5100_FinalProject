{
 "cells": [
  {
   "cell_type": "code",
   "execution_count": 38,
   "id": "7a21de2c",
   "metadata": {
    "tags": []
   },
   "outputs": [],
   "source": [
    "import pandas as pd\n",
    "import numpy as np\n",
    "import nltk\n",
    "import string\n",
    "\n",
    "\n",
    "\n",
    "from sklearn.feature_extraction.text import TfidfVectorizer\n",
    "from sklearn.linear_model import LogisticRegression\n",
    "from sklearn.pipeline import Pipeline\n",
    "from sklearn.metrics import accuracy_score, precision_score, recall_score, f1_score, confusion_matrix\n",
    "from sklearn.model_selection import GridSearchCV\n",
    "from joblib import load, dump"
   ]
  },
  {
   "cell_type": "markdown",
   "id": "9f060080",
   "metadata": {},
   "source": [
    "# Load Data and Replace values with 1 and 0"
   ]
  },
  {
   "cell_type": "code",
   "execution_count": 2,
   "id": "2e9ad87c",
   "metadata": {
    "scrolled": true
   },
   "outputs": [],
   "source": [
    "train_df = pd.read_csv(\"training_data.csv\")"
   ]
  },
  {
   "cell_type": "code",
   "execution_count": 3,
   "id": "8ad8f9a1",
   "metadata": {},
   "outputs": [],
   "source": [
    "train_df['Sentiment'] = train_df['Sentiment'].replace({'Positive': 1, 'Negative': 0})"
   ]
  },
  {
   "cell_type": "code",
   "execution_count": 4,
   "id": "f978c2ac",
   "metadata": {},
   "outputs": [],
   "source": [
    "x_train = train_df[\"Text\"]\n",
    "y_train = train_df['Sentiment']\n",
    "corpus = x_train"
   ]
  },
  {
   "cell_type": "markdown",
   "id": "0acfdd91",
   "metadata": {},
   "source": [
    "# Fit Tf-Idf Vectorizer"
   ]
  },
  {
   "cell_type": "code",
   "execution_count": 5,
   "id": "fdc8169e",
   "metadata": {},
   "outputs": [
    {
     "data": {
      "text/html": [
       "<style>#sk-container-id-1 {color: black;background-color: white;}#sk-container-id-1 pre{padding: 0;}#sk-container-id-1 div.sk-toggleable {background-color: white;}#sk-container-id-1 label.sk-toggleable__label {cursor: pointer;display: block;width: 100%;margin-bottom: 0;padding: 0.3em;box-sizing: border-box;text-align: center;}#sk-container-id-1 label.sk-toggleable__label-arrow:before {content: \"▸\";float: left;margin-right: 0.25em;color: #696969;}#sk-container-id-1 label.sk-toggleable__label-arrow:hover:before {color: black;}#sk-container-id-1 div.sk-estimator:hover label.sk-toggleable__label-arrow:before {color: black;}#sk-container-id-1 div.sk-toggleable__content {max-height: 0;max-width: 0;overflow: hidden;text-align: left;background-color: #f0f8ff;}#sk-container-id-1 div.sk-toggleable__content pre {margin: 0.2em;color: black;border-radius: 0.25em;background-color: #f0f8ff;}#sk-container-id-1 input.sk-toggleable__control:checked~div.sk-toggleable__content {max-height: 200px;max-width: 100%;overflow: auto;}#sk-container-id-1 input.sk-toggleable__control:checked~label.sk-toggleable__label-arrow:before {content: \"▾\";}#sk-container-id-1 div.sk-estimator input.sk-toggleable__control:checked~label.sk-toggleable__label {background-color: #d4ebff;}#sk-container-id-1 div.sk-label input.sk-toggleable__control:checked~label.sk-toggleable__label {background-color: #d4ebff;}#sk-container-id-1 input.sk-hidden--visually {border: 0;clip: rect(1px 1px 1px 1px);clip: rect(1px, 1px, 1px, 1px);height: 1px;margin: -1px;overflow: hidden;padding: 0;position: absolute;width: 1px;}#sk-container-id-1 div.sk-estimator {font-family: monospace;background-color: #f0f8ff;border: 1px dotted black;border-radius: 0.25em;box-sizing: border-box;margin-bottom: 0.5em;}#sk-container-id-1 div.sk-estimator:hover {background-color: #d4ebff;}#sk-container-id-1 div.sk-parallel-item::after {content: \"\";width: 100%;border-bottom: 1px solid gray;flex-grow: 1;}#sk-container-id-1 div.sk-label:hover label.sk-toggleable__label {background-color: #d4ebff;}#sk-container-id-1 div.sk-serial::before {content: \"\";position: absolute;border-left: 1px solid gray;box-sizing: border-box;top: 0;bottom: 0;left: 50%;z-index: 0;}#sk-container-id-1 div.sk-serial {display: flex;flex-direction: column;align-items: center;background-color: white;padding-right: 0.2em;padding-left: 0.2em;position: relative;}#sk-container-id-1 div.sk-item {position: relative;z-index: 1;}#sk-container-id-1 div.sk-parallel {display: flex;align-items: stretch;justify-content: center;background-color: white;position: relative;}#sk-container-id-1 div.sk-item::before, #sk-container-id-1 div.sk-parallel-item::before {content: \"\";position: absolute;border-left: 1px solid gray;box-sizing: border-box;top: 0;bottom: 0;left: 50%;z-index: -1;}#sk-container-id-1 div.sk-parallel-item {display: flex;flex-direction: column;z-index: 1;position: relative;background-color: white;}#sk-container-id-1 div.sk-parallel-item:first-child::after {align-self: flex-end;width: 50%;}#sk-container-id-1 div.sk-parallel-item:last-child::after {align-self: flex-start;width: 50%;}#sk-container-id-1 div.sk-parallel-item:only-child::after {width: 0;}#sk-container-id-1 div.sk-dashed-wrapped {border: 1px dashed gray;margin: 0 0.4em 0.5em 0.4em;box-sizing: border-box;padding-bottom: 0.4em;background-color: white;}#sk-container-id-1 div.sk-label label {font-family: monospace;font-weight: bold;display: inline-block;line-height: 1.2em;}#sk-container-id-1 div.sk-label-container {text-align: center;}#sk-container-id-1 div.sk-container {/* jupyter's `normalize.less` sets `[hidden] { display: none; }` but bootstrap.min.css set `[hidden] { display: none !important; }` so we also need the `!important` here to be able to override the default hidden behavior on the sphinx rendered scikit-learn.org. See: https://github.com/scikit-learn/scikit-learn/issues/21755 */display: inline-block !important;position: relative;}#sk-container-id-1 div.sk-text-repr-fallback {display: none;}</style><div id=\"sk-container-id-1\" class=\"sk-top-container\"><div class=\"sk-text-repr-fallback\"><pre>TfidfVectorizer()</pre><b>In a Jupyter environment, please rerun this cell to show the HTML representation or trust the notebook. <br />On GitHub, the HTML representation is unable to render, please try loading this page with nbviewer.org.</b></div><div class=\"sk-container\" hidden><div class=\"sk-item\"><div class=\"sk-estimator sk-toggleable\"><input class=\"sk-toggleable__control sk-hidden--visually\" id=\"sk-estimator-id-1\" type=\"checkbox\" checked><label for=\"sk-estimator-id-1\" class=\"sk-toggleable__label sk-toggleable__label-arrow\">TfidfVectorizer</label><div class=\"sk-toggleable__content\"><pre>TfidfVectorizer()</pre></div></div></div></div></div>"
      ],
      "text/plain": [
       "TfidfVectorizer()"
      ]
     },
     "execution_count": 5,
     "metadata": {},
     "output_type": "execute_result"
    }
   ],
   "source": [
    "tfidf_vectorizer = TfidfVectorizer()\n",
    "tfidf_vectorizer.fit(corpus)"
   ]
  },
  {
   "cell_type": "markdown",
   "id": "cefff5b4",
   "metadata": {},
   "source": [
    "# Perform Gridsearch"
   ]
  },
  {
   "cell_type": "code",
   "execution_count": 12,
   "id": "f0e30ffc",
   "metadata": {},
   "outputs": [
    {
     "name": "stdout",
     "output_type": "stream",
     "text": [
      "Fitting 5 folds for each of 432 candidates, totalling 2160 fits\n"
     ]
    },
    {
     "data": {
      "text/html": [
       "<style>#sk-container-id-3 {color: black;background-color: white;}#sk-container-id-3 pre{padding: 0;}#sk-container-id-3 div.sk-toggleable {background-color: white;}#sk-container-id-3 label.sk-toggleable__label {cursor: pointer;display: block;width: 100%;margin-bottom: 0;padding: 0.3em;box-sizing: border-box;text-align: center;}#sk-container-id-3 label.sk-toggleable__label-arrow:before {content: \"▸\";float: left;margin-right: 0.25em;color: #696969;}#sk-container-id-3 label.sk-toggleable__label-arrow:hover:before {color: black;}#sk-container-id-3 div.sk-estimator:hover label.sk-toggleable__label-arrow:before {color: black;}#sk-container-id-3 div.sk-toggleable__content {max-height: 0;max-width: 0;overflow: hidden;text-align: left;background-color: #f0f8ff;}#sk-container-id-3 div.sk-toggleable__content pre {margin: 0.2em;color: black;border-radius: 0.25em;background-color: #f0f8ff;}#sk-container-id-3 input.sk-toggleable__control:checked~div.sk-toggleable__content {max-height: 200px;max-width: 100%;overflow: auto;}#sk-container-id-3 input.sk-toggleable__control:checked~label.sk-toggleable__label-arrow:before {content: \"▾\";}#sk-container-id-3 div.sk-estimator input.sk-toggleable__control:checked~label.sk-toggleable__label {background-color: #d4ebff;}#sk-container-id-3 div.sk-label input.sk-toggleable__control:checked~label.sk-toggleable__label {background-color: #d4ebff;}#sk-container-id-3 input.sk-hidden--visually {border: 0;clip: rect(1px 1px 1px 1px);clip: rect(1px, 1px, 1px, 1px);height: 1px;margin: -1px;overflow: hidden;padding: 0;position: absolute;width: 1px;}#sk-container-id-3 div.sk-estimator {font-family: monospace;background-color: #f0f8ff;border: 1px dotted black;border-radius: 0.25em;box-sizing: border-box;margin-bottom: 0.5em;}#sk-container-id-3 div.sk-estimator:hover {background-color: #d4ebff;}#sk-container-id-3 div.sk-parallel-item::after {content: \"\";width: 100%;border-bottom: 1px solid gray;flex-grow: 1;}#sk-container-id-3 div.sk-label:hover label.sk-toggleable__label {background-color: #d4ebff;}#sk-container-id-3 div.sk-serial::before {content: \"\";position: absolute;border-left: 1px solid gray;box-sizing: border-box;top: 0;bottom: 0;left: 50%;z-index: 0;}#sk-container-id-3 div.sk-serial {display: flex;flex-direction: column;align-items: center;background-color: white;padding-right: 0.2em;padding-left: 0.2em;position: relative;}#sk-container-id-3 div.sk-item {position: relative;z-index: 1;}#sk-container-id-3 div.sk-parallel {display: flex;align-items: stretch;justify-content: center;background-color: white;position: relative;}#sk-container-id-3 div.sk-item::before, #sk-container-id-3 div.sk-parallel-item::before {content: \"\";position: absolute;border-left: 1px solid gray;box-sizing: border-box;top: 0;bottom: 0;left: 50%;z-index: -1;}#sk-container-id-3 div.sk-parallel-item {display: flex;flex-direction: column;z-index: 1;position: relative;background-color: white;}#sk-container-id-3 div.sk-parallel-item:first-child::after {align-self: flex-end;width: 50%;}#sk-container-id-3 div.sk-parallel-item:last-child::after {align-self: flex-start;width: 50%;}#sk-container-id-3 div.sk-parallel-item:only-child::after {width: 0;}#sk-container-id-3 div.sk-dashed-wrapped {border: 1px dashed gray;margin: 0 0.4em 0.5em 0.4em;box-sizing: border-box;padding-bottom: 0.4em;background-color: white;}#sk-container-id-3 div.sk-label label {font-family: monospace;font-weight: bold;display: inline-block;line-height: 1.2em;}#sk-container-id-3 div.sk-label-container {text-align: center;}#sk-container-id-3 div.sk-container {/* jupyter's `normalize.less` sets `[hidden] { display: none; }` but bootstrap.min.css set `[hidden] { display: none !important; }` so we also need the `!important` here to be able to override the default hidden behavior on the sphinx rendered scikit-learn.org. See: https://github.com/scikit-learn/scikit-learn/issues/21755 */display: inline-block !important;position: relative;}#sk-container-id-3 div.sk-text-repr-fallback {display: none;}</style><div id=\"sk-container-id-3\" class=\"sk-top-container\"><div class=\"sk-text-repr-fallback\"><pre>GridSearchCV(cv=5,\n",
       "             estimator=Pipeline(steps=[(&#x27;Tfidf&#x27;, TfidfVectorizer()),\n",
       "                                       (&#x27;log_reg&#x27;,\n",
       "                                        LogisticRegression(max_iter=1000,\n",
       "                                                           warm_start=True))]),\n",
       "             n_jobs=1,\n",
       "             param_grid={&#x27;Tfidf__max_df&#x27;: (0.5, 0.75, 1.0),\n",
       "                         &#x27;Tfidf__max_features&#x27;: (None, 5000, 10000, 20000),\n",
       "                         &#x27;Tfidf__min_df&#x27;: (1, 2, 5),\n",
       "                         &#x27;Tfidf__ngram_range&#x27;: [(1, 1), (1, 2), (1, 3)],\n",
       "                         &#x27;log_reg__max_iter&#x27;: (200, 500, 1000, 2000)},\n",
       "             verbose=1)</pre><b>In a Jupyter environment, please rerun this cell to show the HTML representation or trust the notebook. <br />On GitHub, the HTML representation is unable to render, please try loading this page with nbviewer.org.</b></div><div class=\"sk-container\" hidden><div class=\"sk-item sk-dashed-wrapped\"><div class=\"sk-label-container\"><div class=\"sk-label sk-toggleable\"><input class=\"sk-toggleable__control sk-hidden--visually\" id=\"sk-estimator-id-3\" type=\"checkbox\" ><label for=\"sk-estimator-id-3\" class=\"sk-toggleable__label sk-toggleable__label-arrow\">GridSearchCV</label><div class=\"sk-toggleable__content\"><pre>GridSearchCV(cv=5,\n",
       "             estimator=Pipeline(steps=[(&#x27;Tfidf&#x27;, TfidfVectorizer()),\n",
       "                                       (&#x27;log_reg&#x27;,\n",
       "                                        LogisticRegression(max_iter=1000,\n",
       "                                                           warm_start=True))]),\n",
       "             n_jobs=1,\n",
       "             param_grid={&#x27;Tfidf__max_df&#x27;: (0.5, 0.75, 1.0),\n",
       "                         &#x27;Tfidf__max_features&#x27;: (None, 5000, 10000, 20000),\n",
       "                         &#x27;Tfidf__min_df&#x27;: (1, 2, 5),\n",
       "                         &#x27;Tfidf__ngram_range&#x27;: [(1, 1), (1, 2), (1, 3)],\n",
       "                         &#x27;log_reg__max_iter&#x27;: (200, 500, 1000, 2000)},\n",
       "             verbose=1)</pre></div></div></div><div class=\"sk-parallel\"><div class=\"sk-parallel-item\"><div class=\"sk-item\"><div class=\"sk-label-container\"><div class=\"sk-label sk-toggleable\"><input class=\"sk-toggleable__control sk-hidden--visually\" id=\"sk-estimator-id-4\" type=\"checkbox\" ><label for=\"sk-estimator-id-4\" class=\"sk-toggleable__label sk-toggleable__label-arrow\">estimator: Pipeline</label><div class=\"sk-toggleable__content\"><pre>Pipeline(steps=[(&#x27;Tfidf&#x27;, TfidfVectorizer()),\n",
       "                (&#x27;log_reg&#x27;,\n",
       "                 LogisticRegression(max_iter=1000, warm_start=True))])</pre></div></div></div><div class=\"sk-serial\"><div class=\"sk-item\"><div class=\"sk-serial\"><div class=\"sk-item\"><div class=\"sk-estimator sk-toggleable\"><input class=\"sk-toggleable__control sk-hidden--visually\" id=\"sk-estimator-id-5\" type=\"checkbox\" ><label for=\"sk-estimator-id-5\" class=\"sk-toggleable__label sk-toggleable__label-arrow\">TfidfVectorizer</label><div class=\"sk-toggleable__content\"><pre>TfidfVectorizer()</pre></div></div></div><div class=\"sk-item\"><div class=\"sk-estimator sk-toggleable\"><input class=\"sk-toggleable__control sk-hidden--visually\" id=\"sk-estimator-id-6\" type=\"checkbox\" ><label for=\"sk-estimator-id-6\" class=\"sk-toggleable__label sk-toggleable__label-arrow\">LogisticRegression</label><div class=\"sk-toggleable__content\"><pre>LogisticRegression(max_iter=1000, warm_start=True)</pre></div></div></div></div></div></div></div></div></div></div></div></div>"
      ],
      "text/plain": [
       "GridSearchCV(cv=5,\n",
       "             estimator=Pipeline(steps=[('Tfidf', TfidfVectorizer()),\n",
       "                                       ('log_reg',\n",
       "                                        LogisticRegression(max_iter=1000,\n",
       "                                                           warm_start=True))]),\n",
       "             n_jobs=1,\n",
       "             param_grid={'Tfidf__max_df': (0.5, 0.75, 1.0),\n",
       "                         'Tfidf__max_features': (None, 5000, 10000, 20000),\n",
       "                         'Tfidf__min_df': (1, 2, 5),\n",
       "                         'Tfidf__ngram_range': [(1, 1), (1, 2), (1, 3)],\n",
       "                         'log_reg__max_iter': (200, 500, 1000, 2000)},\n",
       "             verbose=1)"
      ]
     },
     "execution_count": 12,
     "metadata": {},
     "output_type": "execute_result"
    }
   ],
   "source": [
    "log_model = LogisticRegression(verbose = 0, warm_start = True, max_iter = 1000) # create logistic model\n",
    "model = Pipeline([('Tfidf', tfidf_vectorizer), (\"log_reg\", log_model)]) # create pipeline\n",
    "\n",
    "# parameters to search with grid search\n",
    "params = {\n",
    "    'log_reg__max_iter' : (200, 500, 1000, 2000),\n",
    "    'Tfidf__max_df': (0.5, 0.75, 1.0),\n",
    "    'Tfidf__min_df': (1, 2, 5),\n",
    "    'Tfidf__ngram_range': [(1, 1), (1, 2), (1, 3)],\n",
    "    'Tfidf__max_features': (None, 5000, 10000, 20000),\n",
    "}\n",
    "\n",
    "grid_search = GridSearchCV(model, params, cv = 5, verbose = 1, n_jobs = 1) # create gridsearch and fit \n",
    "grid_search.fit(x_train, y_train)"
   ]
  },
  {
   "cell_type": "code",
   "execution_count": null,
   "id": "67e315c3",
   "metadata": {},
   "outputs": [],
   "source": [
    "'''\n",
    "Cell for saving the model will only run if gridseach is actually perfomed\n",
    "Otherwise just load the model like below\n",
    "'''\n",
    "\n",
    "# best_model = grid_search.best_estimator_\n",
    "# dump(best_model, 'LR_GridSearchCV.joblib')"
   ]
  },
  {
   "cell_type": "markdown",
   "id": "2d79804a",
   "metadata": {},
   "source": [
    "# Load Model"
   ]
  },
  {
   "cell_type": "code",
   "execution_count": 18,
   "id": "55d5f0c0",
   "metadata": {},
   "outputs": [],
   "source": [
    "# load in case kernel resets and model is lost in memory\n",
    "grid_search = load(\"LR_GridSearchCV.joblib\")"
   ]
  },
  {
   "cell_type": "markdown",
   "id": "de2cd28f",
   "metadata": {},
   "source": [
    "# Training Accuracy"
   ]
  },
  {
   "cell_type": "code",
   "execution_count": 7,
   "id": "d3bc4d6a",
   "metadata": {},
   "outputs": [
    {
     "data": {
      "text/plain": [
       "0.9735909644557634"
      ]
     },
     "execution_count": 7,
     "metadata": {},
     "output_type": "execute_result"
    }
   ],
   "source": [
    "y_grid_train = grid_search.predict(x_train)\n",
    "train_grid_acc = accuracy_score(y_train, y_grid_train)\n",
    "train_grid_acc"
   ]
  },
  {
   "cell_type": "markdown",
   "id": "8d02f0b8",
   "metadata": {},
   "source": [
    "# Testing Metrics"
   ]
  },
  {
   "cell_type": "code",
   "execution_count": 19,
   "id": "4402c1d2",
   "metadata": {},
   "outputs": [],
   "source": [
    "test_df = pd.read_csv(\"testing_data.csv\")"
   ]
  },
  {
   "cell_type": "code",
   "execution_count": 20,
   "id": "313a6e05",
   "metadata": {},
   "outputs": [],
   "source": [
    "test_df['Sentiment'] = test_df['Sentiment'].replace({'Positive': 1, 'Negative': 0}) # switch labels to 0 and 1"
   ]
  },
  {
   "cell_type": "code",
   "execution_count": 21,
   "id": "acf4636c",
   "metadata": {},
   "outputs": [],
   "source": [
    "# Get test data and predict with model\n",
    "x_test = test_df[\"Text\"]\n",
    "y_test = test_df[\"Sentiment\"]\n",
    "\n",
    "y_pred_grid = grid_search.predict(x_test)"
   ]
  },
  {
   "cell_type": "code",
   "execution_count": 32,
   "id": "38ab6011",
   "metadata": {},
   "outputs": [
    {
     "name": "stdout",
     "output_type": "stream",
     "text": [
      "Testing accuracy: 0.9758812615955473\n",
      "Precision: 0.9888059701492538\n",
      "Recall: 0.9636363636363636\n",
      "F1: 0.9760589318600369\n",
      "Confusion Matrix:\n",
      "[[261   3]\n",
      " [ 10 265]]\n"
     ]
    }
   ],
   "source": [
    "# Testing metrics\n",
    "\n",
    "# Accuracy\n",
    "grid_test_acc = accuracy_score(y_test, y_pred_grid)\n",
    "print(f\"Testing accuracy: {grid_test_acc}\")\n",
    "\n",
    "# Precision\n",
    "grid_test_prec = precision_score(y_test, y_pred_grid)\n",
    "print(f\"Precision: {grid_test_prec}\")\n",
    "\n",
    "# Recall\n",
    "grid_test_recall = recall_score(y_test, y_pred_grid)\n",
    "print(f\"Recall: {grid_test_recall}\")\n",
    "\n",
    "# F1\n",
    "grid_test_f1 = f1_score(y_test, y_pred_grid)\n",
    "print(f\"F1: {grid_test_f1}\")\n",
    "\n",
    "# Confusion Matrix\n",
    "grid_test_cm = confusion_matrix(y_test, y_pred_grid)\n",
    "print(\"Confusion Matrix:\")\n",
    "print(grid_test_cm)"
   ]
  },
  {
   "cell_type": "code",
   "execution_count": 29,
   "id": "8e828f76",
   "metadata": {},
   "outputs": [],
   "source": [
    "sentence = \"\" # insert sentence to test and run both blocls be"
   ]
  },
  {
   "cell_type": "code",
   "execution_count": 30,
   "id": "507905f0",
   "metadata": {},
   "outputs": [],
   "source": [
    "ex = grid_search.predict([sentence])\n",
    "if ex[0] == 1:\n",
    "    sentiment = \"Positive :)\"\n",
    "else:\n",
    "    sentiment = \"Negative :(\"\n",
    "\n",
    "print(sentiment)\n",
    "print(sentence)"
   ]
  },
  {
   "cell_type": "code",
   "execution_count": null,
   "id": "93098b82",
   "metadata": {},
   "outputs": [],
   "source": [
    "# Shows parameters of model\n",
    "log_reg_params = grid_search.get_params()\n",
    "for param in log_reg_params:\n",
    "    print(param,\":\" ,log_reg_params[param])"
   ]
  }
 ],
 "metadata": {
  "kernelspec": {
   "display_name": "Python 3 (ipykernel)",
   "language": "python",
   "name": "python3"
  },
  "language_info": {
   "codemirror_mode": {
    "name": "ipython",
    "version": 3
   },
   "file_extension": ".py",
   "mimetype": "text/x-python",
   "name": "python",
   "nbconvert_exporter": "python",
   "pygments_lexer": "ipython3",
   "version": "3.8.16"
  }
 },
 "nbformat": 4,
 "nbformat_minor": 5
}
